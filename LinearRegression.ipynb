{
 "cells": [
  {
   "cell_type": "markdown",
   "metadata": {},
   "source": [
    "# Import PyTorch and TensorFlow"
   ]
  },
  {
   "cell_type": "code",
   "execution_count": 1,
   "metadata": {},
   "outputs": [],
   "source": [
    "# %tensorflow_version 2.x"
   ]
  },
  {
   "cell_type": "code",
   "execution_count": 2,
   "metadata": {},
   "outputs": [
    {
     "name": "stdout",
     "output_type": "stream",
     "text": [
      "tensorflow version: 2.0.0\n"
     ]
    }
   ],
   "source": [
    "import tensorflow as tf\n",
    "print(f\"tensorflow version: {tf.__version__}\")"
   ]
  },
  {
   "cell_type": "code",
   "execution_count": 3,
   "metadata": {},
   "outputs": [
    {
     "name": "stdout",
     "output_type": "stream",
     "text": [
      "pytorch version: 1.6.0\n"
     ]
    }
   ],
   "source": [
    "import torch\n",
    "print(f\"pytorch version: {torch.__version__}\")"
   ]
  },
  {
   "cell_type": "markdown",
   "metadata": {},
   "source": [
    "# Generating the datasets"
   ]
  },
  {
   "cell_type": "code",
   "execution_count": 4,
   "metadata": {},
   "outputs": [],
   "source": [
    "import numpy as np\n",
    "import matplotlib.pyplot as plt"
   ]
  },
  {
   "cell_type": "code",
   "execution_count": 5,
   "metadata": {},
   "outputs": [],
   "source": [
    "def generate_data(m=0.1, b=0.3, n=200):\n",
    "    x = tf.random.uniform(shape=(n,),minval=-10,maxval=10) \n",
    "    noise = tf.random.normal(shape=(len(x),), stddev=0.15)\n",
    "    y = (m * x + b ) + noise\n",
    "    return x, y"
   ]
  },
  {
   "cell_type": "markdown",
   "metadata": {},
   "source": [
    "## Data Visualization"
   ]
  },
  {
   "cell_type": "code",
   "execution_count": 6,
   "metadata": {},
   "outputs": [
    {
     "data": {
      "text/plain": [
       "Text(0, 0.5, 'y')"
      ]
     },
     "execution_count": 6,
     "metadata": {},
     "output_type": "execute_result"
    },
    {
     "data": {
      "image/png": "[encoded data removed]",
      "text/plain": [
       "<Figure size 864x360 with 1 Axes>"
      ]
     },
     "metadata": {
      "needs_background": "light"
     },
     "output_type": "display_data"
    }
   ],
   "source": [
    "m = tf.Variable(0.)\n",
    "b = tf.Variable(0.)\n",
    "x, y = generate_data()\n",
    "plt.figure(figsize = (12,5))\n",
    "ax = plt.subplot(111)\n",
    "ax.scatter(x,y, c = \"b\", label=\"samples\")\n",
    "ax.plot(x,m*x+b,\"-r\",linewidth = 5.0,label = \"model\")\n",
    "plt.xlabel(\"x1\")\n",
    "plt.ylabel(\"y\",rotation = 0)"
   ]
  },
  {
   "cell_type": "markdown",
   "metadata": {},
   "source": [
    "# TensorFlow Model"
   ]
  },
  {
   "cell_type": "code",
   "execution_count": 7,
   "metadata": {},
   "outputs": [],
   "source": [
    "class LinearRegressionKeras:\n",
    "    def __init__(self):\n",
    "        self.params = {\n",
    "            \"w\" : tf.Variable(0.),\n",
    "            \"b\" : tf.Variable(0.)\n",
    "        }        \n",
    "\n",
    "    def __call__(self,x): \n",
    "        y_pred = self.params[\"w\"] * x + self.params[\"b\"]\n",
    "        return y_pred"
   ]
  },
  {
   "cell_type": "markdown",
   "metadata": {},
   "source": [
    "# PyTorch Model"
   ]
  },
  {
   "cell_type": "code",
   "execution_count": 8,
   "metadata": {},
   "outputs": [],
   "source": [
    "# class LinearRegressionPyTorch(torch.nn.Module): \n",
    "#     def __init__(self): \n",
    "#         super(LinearRegressionPyTorch, self).__init__() \n",
    "#         self.w = torch.tensor([0.0])\n",
    "#         self.b = torch.tensor([0.0])\n",
    "  \n",
    "#     def forward(self, x):  \n",
    "#         return x @ self.w + self.b\n",
    "    \n",
    "    \n",
    "class LinearRegressionPyTorch(torch.nn.Module):\n",
    "    def __init__(self):\n",
    "        super(LinearRegressionPyTorch, self).__init__()\n",
    "        self.linear = torch.nn.Linear(1, 1)  \n",
    "\n",
    "    def forward(self, x):\n",
    "        out = self.linear(x)\n",
    "        return out"
   ]
  },
  {
   "cell_type": "markdown",
   "metadata": {},
   "source": [
    "# TensorFlow Training"
   ]
  },
  {
   "cell_type": "code",
   "execution_count": 9,
   "metadata": {},
   "outputs": [
    {
     "name": "stdout",
     "output_type": "stream",
     "text": [
      "Step 20, Loss 0.12438808381557465\n",
      "Step 40, Loss 0.09833744168281555\n",
      "Step 60, Loss 0.0915316641330719\n",
      "Step 80, Loss 0.0860544741153717\n",
      "Step 100, Loss 0.08103595674037933\n",
      "Step 120, Loss 0.07640500366687775\n",
      "Step 140, Loss 0.07213012874126434\n",
      "Step 160, Loss 0.06818386912345886\n",
      "Step 180, Loss 0.06454100459814072\n",
      "Step 200, Loss 0.06117815896868706\n",
      "Step 220, Loss 0.05807384103536606\n",
      "Step 240, Loss 0.05520814284682274\n",
      "Step 260, Loss 0.05256276577711105\n",
      "Step 280, Loss 0.05012074112892151\n",
      "Step 300, Loss 0.04786644130945206\n",
      "Step 320, Loss 0.04578544199466705\n",
      "Step 340, Loss 0.0438644215464592\n",
      "Step 360, Loss 0.04209107533097267\n",
      "Step 380, Loss 0.040454041212797165\n",
      "Step 400, Loss 0.038942851126194\n",
      "Step 420, Loss 0.037547849118709564\n",
      "Step 440, Loss 0.036260079592466354\n",
      "Step 460, Loss 0.03507130593061447\n",
      "Step 480, Loss 0.03397391736507416\n"
     ]
    }
   ],
   "source": [
    "epochs = 500\n",
    "learning_rate = 0.001\n",
    "\n",
    "def squared_error(y_pred, y_true):\n",
    "    return tf.reduce_mean(tf.square(y_pred - y_true))\n",
    "\n",
    "tf_model = LinearRegressionKeras()\n",
    "\n",
    "for epoch in tf.range(1,epochs):\n",
    "    with tf.GradientTape() as tape:\n",
    "        predictions = tf_model(x)\n",
    "        loss = squared_error(predictions, y)\n",
    "    dloss_dw,dloss_db = tape.gradient(loss, [tf_model.params[\"w\"], tf_model.params[\"b\"]])\n",
    "    # adjusting \n",
    "    tf_model.params[\"w\"].assign(tf_model.params[\"w\"] - learning_rate*dloss_dw)\n",
    "    tf_model.params[\"b\"].assign(tf_model.params[\"b\"] - learning_rate*dloss_db)\n",
    "    if epoch % 20 == 0:\n",
    "        print(f\"Step {epoch}, Loss {loss.numpy()}\") # we print the loss only each 20 epochs"
   ]
  },
  {
   "cell_type": "markdown",
   "metadata": {},
   "source": [
    "# PyTorch Training"
   ]
  },
  {
   "cell_type": "code",
   "execution_count": 10,
   "metadata": {},
   "outputs": [],
   "source": [
    "x, y = generate_data()\n",
    "x = x.numpy()\n",
    "y = y.numpy()\n",
    "x = x.reshape(-1, 1)\n",
    "# x.shape\n",
    "\n",
    "inputs = torch.autograd.Variable(torch.from_numpy(x))\n",
    "labels = torch.autograd.Variable(torch.from_numpy(y))\n"
   ]
  },
  {
   "cell_type": "code",
   "execution_count": 11,
   "metadata": {},
   "outputs": [],
   "source": [
    "# epochs = 500\n",
    "# learning_rate = 0.001\n",
    "\n",
    "# def squared_error(y_pred, y_true):\n",
    "#     diff = y_pred - y_true\n",
    "#     return torch.sum(diff * diff) / diff.numel()\n",
    "\n",
    "\n",
    "# torch_model = LinearRegressionPyTorch()\n",
    "\n",
    "# # [w, b] = torch_model.parameters()\n",
    "\n",
    "# optimizer = torch.optim.SGD(model.parameters(), lr=0.01, momentum=0.01)\n",
    "\n",
    "# for epoch in range(epochs):\n",
    "#     epoch_loss = 0\n",
    "#     y_pred = torch_model(inputs)\n",
    "\n",
    "#     loss = squared_error(y_pred, labels)\n",
    "\n",
    "#     epoch_loss = loss.data[0]\n",
    "\n",
    "#     optimizer.zero_grad()\n",
    "#     loss.backward()\n",
    "#     optimizer.step()\n",
    "#     print(\"Epoch {} : Loss {}\".format(epoch, epoch_loss))\n"
   ]
  },
  {
   "cell_type": "markdown",
   "metadata": {},
   "source": [
    "# Data Visualization"
   ]
  },
  {
   "cell_type": "code",
   "execution_count": 12,
   "metadata": {},
   "outputs": [
    {
     "data": {
      "text/plain": [
       "Text(0, 0.5, 'y')"
      ]
     },
     "execution_count": 12,
     "metadata": {},
     "output_type": "execute_result"
    },
    {
     "data": {
      "image/png": "[encoded data removed]",
      "text/plain": [
       "<Figure size 864x360 with 1 Axes>"
      ]
     },
     "metadata": {
      "needs_background": "light"
     },
     "output_type": "display_data"
    }
   ],
   "source": [
    "x_train, y_train = generate_data()\n",
    "plt.figure(figsize = (12,5))\n",
    "ax = plt.subplot(111)\n",
    "ax.scatter(x_train,y_train, c = \"b\", label=\"samples\")\n",
    "ax.plot(x, tf_model.params[\"w\"] * x + tf_model.params[\"b\"], \"-r\", linewidth = 5.0, label = \"model\")\n",
    "ax.legend()\n",
    "plt.xlabel(\"x1\")\n",
    "plt.ylabel(\"y\",rotation = 0)"
   ]
  },
  {
   "cell_type": "code",
   "execution_count": null,
   "metadata": {},
   "outputs": [],
   "source": []
  }
 ],
 "metadata": {
  "kernelspec": {
   "display_name": "Python 3",
   "language": "python",
   "name": "python3"
  },
  "language_info": {
   "codemirror_mode": {
    "name": "ipython",
    "version": 3
   },
   "file_extension": ".py",
   "mimetype": "text/x-python",
   "name": "python",
   "nbconvert_exporter": "python",
   "pygments_lexer": "ipython3",
   "version": "3.7.6"
  }
 },
 "nbformat": 4,
 "nbformat_minor": 4
}
