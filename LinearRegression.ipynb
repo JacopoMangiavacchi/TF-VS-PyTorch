{
 "cells": [
  {
   "cell_type": "markdown",
   "metadata": {},
   "source": [
    "# Import PyTorch and TensorFlow"
   ]
  },
  {
   "cell_type": "code",
   "execution_count": 1,
   "metadata": {},
   "outputs": [],
   "source": [
    "# %tensorflow_version 2.x"
   ]
  },
  {
   "cell_type": "code",
   "execution_count": 2,
   "metadata": {},
   "outputs": [
    {
     "name": "stdout",
     "output_type": "stream",
     "text": [
      "tensorflow version: 2.0.0\n"
     ]
    }
   ],
   "source": [
    "import tensorflow as tf\n",
    "print(f\"tensorflow version: {tf.__version__}\")"
   ]
  },
  {
   "cell_type": "code",
   "execution_count": 3,
   "metadata": {},
   "outputs": [
    {
     "name": "stdout",
     "output_type": "stream",
     "text": [
      "pytorch version: 1.6.0\n"
     ]
    }
   ],
   "source": [
    "import torch\n",
    "print(f\"pytorch version: {torch.__version__}\")"
   ]
  },
  {
   "cell_type": "markdown",
   "metadata": {},
   "source": [
    "# Generating the datasets"
   ]
  },
  {
   "cell_type": "code",
   "execution_count": 4,
   "metadata": {},
   "outputs": [],
   "source": [
    "import numpy as np\n",
    "import matplotlib.pyplot as plt"
   ]
  },
  {
   "cell_type": "code",
   "execution_count": 5,
   "metadata": {},
   "outputs": [],
   "source": [
    "def generate_data(m=0.1, b=0.3, n=200):\n",
    "    x = tf.random.uniform(shape=(n,),minval=-10,maxval=10) \n",
    "    noise = tf.random.normal(shape=(len(x),), stddev=0.15)\n",
    "    y = (m * x + b ) + noise\n",
    "    return x, y"
   ]
  },
  {
   "cell_type": "markdown",
   "metadata": {},
   "source": [
    "## Data Visualization"
   ]
  },
  {
   "cell_type": "code",
   "execution_count": 6,
   "metadata": {},
   "outputs": [
    {
     "data": {
      "text/plain": [
       "Text(0, 0.5, 'y')"
      ]
     },
     "execution_count": 6,
     "metadata": {},
     "output_type": "execute_result"
    },
    {
     "data": {
      "image/png": "[encoded data removed]",
      "text/plain": [
       "<Figure size 864x360 with 1 Axes>"
      ]
     },
     "metadata": {
      "needs_background": "light"
     },
     "output_type": "display_data"
    }
   ],
   "source": [
    "m = tf.Variable(0.)\n",
    "b = tf.Variable(0.)\n",
    "x, y = generate_data()\n",
    "plt.figure(figsize = (12,5))\n",
    "ax = plt.subplot(111)\n",
    "ax.scatter(x,y, c = \"b\", label=\"samples\")\n",
    "ax.plot(x,m*x+b,\"-r\",linewidth = 5.0,label = \"model\")\n",
    "plt.xlabel(\"x1\")\n",
    "plt.ylabel(\"y\",rotation = 0)"
   ]
  },
  {
   "cell_type": "markdown",
   "metadata": {},
   "source": [
    "# TensorFlow Model Training"
   ]
  },
  {
   "cell_type": "code",
   "execution_count": 7,
   "metadata": {},
   "outputs": [],
   "source": [
    "def squared_error(y_pred, y_true):\n",
    "    return tf.reduce_mean(tf.square(y_pred - y_true))"
   ]
  },
  {
   "cell_type": "code",
   "execution_count": 8,
   "metadata": {},
   "outputs": [
    {
     "name": "stdout",
     "output_type": "stream",
     "text": [
      "Step 20, Loss 0.1254921704530716\n",
      "Step 40, Loss 0.09660688042640686\n",
      "Step 60, Loss 0.08951659500598907\n",
      "Step 80, Loss 0.08412571251392365\n",
      "Step 100, Loss 0.07921654731035233\n",
      "Step 120, Loss 0.07468797266483307\n",
      "Step 140, Loss 0.07050701230764389\n",
      "Step 160, Loss 0.0666467696428299\n",
      "Step 180, Loss 0.06308262050151825\n",
      "Step 200, Loss 0.059791870415210724\n",
      "Step 220, Loss 0.056753549724817276\n",
      "Step 240, Loss 0.05394827947020531\n",
      "Step 260, Loss 0.05135820433497429\n",
      "Step 280, Loss 0.048966795206069946\n",
      "Step 300, Loss 0.046758826822042465\n",
      "Step 320, Loss 0.04472022131085396\n",
      "Step 340, Loss 0.04283798858523369\n",
      "Step 360, Loss 0.04110012948513031\n",
      "Step 380, Loss 0.03949559107422829\n",
      "Step 400, Loss 0.03801412507891655\n",
      "Step 420, Loss 0.03664629906415939\n",
      "Step 440, Loss 0.03538339212536812\n",
      "Step 460, Loss 0.03421735763549805\n",
      "Step 480, Loss 0.033140767365694046\n"
     ]
    }
   ],
   "source": [
    "epochs = 500\n",
    "learning_rate = 0.001\n",
    "\n",
    "\n",
    "class LinearRegression:\n",
    "    def __init__(self):\n",
    "        self.params = {\n",
    "            \"m\" : tf.Variable(0.),\n",
    "            \"b\" : tf.Variable(0.)\n",
    "        }        \n",
    "    # Forward propagation\n",
    "    def __call__(self,x): \n",
    "        y = self.params[\"m\"] * x + self.params[\"b\"]\n",
    "        return y\n",
    "    # Loss function\n",
    "    def loss_func(self,y_true,y_pred):  \n",
    "        return tf.reduce_mean((y_true - y_pred)**2/2)\n",
    "\n",
    "model = LinearRegression()\n",
    "for epoch in tf.range(1,epochs):\n",
    "    with tf.GradientTape() as tape:\n",
    "        predictions = model(x)\n",
    "        loss = squared_error(predictions, y)\n",
    "    dloss_dw,dloss_db = tape.gradient(loss, [model.params[\"m\"], model.params[\"b\"]])\n",
    "    # adjusting \n",
    "    model.params[\"m\"].assign(model.params[\"m\"] - learning_rate*dloss_dw)\n",
    "    model.params[\"b\"].assign(model.params[\"b\"] - learning_rate*dloss_db)\n",
    "    if epoch % 20 == 0:\n",
    "        print(f\"Step {epoch}, Loss {loss.numpy()}\") # we print the loss only each 20 epochs"
   ]
  },
  {
   "cell_type": "markdown",
   "metadata": {},
   "source": [
    "## Data Visualization"
   ]
  },
  {
   "cell_type": "code",
   "execution_count": 9,
   "metadata": {},
   "outputs": [
    {
     "data": {
      "text/plain": [
       "Text(0, 0.5, 'y')"
      ]
     },
     "execution_count": 9,
     "metadata": {},
     "output_type": "execute_result"
    },
    {
     "data": {
      "image/png": "[encoded data removed]",
      "text/plain": [
       "<Figure size 864x360 with 1 Axes>"
      ]
     },
     "metadata": {
      "needs_background": "light"
     },
     "output_type": "display_data"
    }
   ],
   "source": [
    "x_train, y_train = generate_data()\n",
    "plt.figure(figsize = (12,5))\n",
    "ax = plt.subplot(111)\n",
    "ax.scatter(x_train,y_train, c = \"b\", label=\"samples\")\n",
    "ax.plot(x,model.params[\"m\"]*x+model.params[\"b\"],\"-r\",linewidth = 5.0,label = \"model\")\n",
    "ax.legend()\n",
    "plt.xlabel(\"x1\")\n",
    "plt.ylabel(\"y\",rotation = 0)"
   ]
  },
  {
   "cell_type": "markdown",
   "metadata": {},
   "source": [
    "# PyTorch Model Training"
   ]
  },
  {
   "cell_type": "code",
   "execution_count": null,
   "metadata": {},
   "outputs": [],
   "source": []
  }
 ],
 "metadata": {
  "kernelspec": {
   "display_name": "Python 3",
   "language": "python",
   "name": "python3"
  },
  "language_info": {
   "codemirror_mode": {
    "name": "ipython",
    "version": 3
   },
   "file_extension": ".py",
   "mimetype": "text/x-python",
   "name": "python",
   "nbconvert_exporter": "python",
   "pygments_lexer": "ipython3",
   "version": "3.7.6"
  }
 },
 "nbformat": 4,
 "nbformat_minor": 4
}
