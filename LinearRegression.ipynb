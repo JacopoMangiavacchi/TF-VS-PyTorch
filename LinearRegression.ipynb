{
  "nbformat": 4,
  "nbformat_minor": 0,
  "metadata": {
    "kernelspec": {
      "display_name": "Python 3",
      "language": "python",
      "name": "python3"
    },
    "language_info": {
      "codemirror_mode": {
        "name": "ipython",
        "version": 3
      },
      "file_extension": ".py",
      "mimetype": "text/x-python",
      "name": "python",
      "nbconvert_exporter": "python",
      "pygments_lexer": "ipython3",
      "version": "3.7.6"
    },
    "colab": {
      "name": "LinearRegression.ipynb",
      "provenance": [],
      "include_colab_link": true
    }
  },
  "cells": [
    {
      "cell_type": "markdown",
      "metadata": {
        "id": "view-in-github",
        "colab_type": "text"
      },
      "source": [
        "<a href=\"https://colab.research.google.com/github/JacopoMangiavacchi/TF-VS-PyTorch/blob/main/LinearRegression.ipynb\" target=\"_parent\"><img src=\"https://colab.research.google.com/assets/colab-badge.svg\" alt=\"Open In Colab\"/></a>"
      ]
    },
    {
      "cell_type": "markdown",
      "metadata": {
        "id": "emfCSMQG4wZg"
      },
      "source": [
        "# Import PyTorch and TensorFlow"
      ]
    },
    {
      "cell_type": "code",
      "metadata": {
        "id": "0c906lqY4wZh"
      },
      "source": [
        "%tensorflow_version 2.x"
      ],
      "execution_count": 1,
      "outputs": []
    },
    {
      "cell_type": "code",
      "metadata": {
        "id": "-GJ3rN3R4wZn",
        "outputId": "99cde65e-fb94-4ed4-b123-f12554413dd4",
        "colab": {
          "base_uri": "https://localhost:8080/"
        }
      },
      "source": [
        "import tensorflow as tf\n",
        "print(f\"tensorflow version: {tf.__version__}\")"
      ],
      "execution_count": 2,
      "outputs": [
        {
          "output_type": "stream",
          "text": [
            "tensorflow version: 2.3.0\n"
          ],
          "name": "stdout"
        }
      ]
    },
    {
      "cell_type": "code",
      "metadata": {
        "id": "A85pp2Tn4wZs",
        "outputId": "7c1cdae2-b265-4963-d027-c6ba01e8e1be",
        "colab": {
          "base_uri": "https://localhost:8080/"
        }
      },
      "source": [
        "import torch\n",
        "print(f\"pytorch version: {torch.__version__}\")"
      ],
      "execution_count": 3,
      "outputs": [
        {
          "output_type": "stream",
          "text": [
            "pytorch version: 1.6.0+cu101\n"
          ],
          "name": "stdout"
        }
      ]
    },
    {
      "cell_type": "markdown",
      "metadata": {
        "id": "kH0qo4mQ4wZv"
      },
      "source": [
        "# Generating the datasets"
      ]
    },
    {
      "cell_type": "code",
      "metadata": {
        "id": "4ifmVYyy4wZv"
      },
      "source": [
        "import numpy as np\n",
        "import matplotlib.pyplot as plt"
      ],
      "execution_count": 4,
      "outputs": []
    },
    {
      "cell_type": "code",
      "metadata": {
        "id": "CMPBuJxd4wZy"
      },
      "source": [
        "def generate_data(m=0.1, b=0.3, n=200):\n",
        "    x = np.random.uniform(-10, 10, n)\n",
        "    noise = np.random.normal(0, 0.15, n)\n",
        "    y = (m * x + b ) + noise\n",
        "    return x.astype(np.float32), y.astype(np.float32)\n",
        "\n",
        "    # x = tf.random.uniform(shape=(n,),minval=-10,maxval=10) \n",
        "    # noise = tf.random.normal(shape=(len(x),), stddev=0.15)\n",
        "    # y = (m * x + b ) + noise\n",
        "    # return x.numpy(), y.numpy()"
      ],
      "execution_count": 5,
      "outputs": []
    },
    {
      "cell_type": "markdown",
      "metadata": {
        "id": "QgGeUkn54wZ0"
      },
      "source": [
        "## Data Visualization"
      ]
    },
    {
      "cell_type": "code",
      "metadata": {
        "id": "ffKgDR8w4wZ1",
        "outputId": "04f7b767-2f8c-4d5f-86ce-a373f5b1556a",
        "colab": {
          "base_uri": "https://localhost:8080/",
          "height": 371
        }
      },
      "source": [
        "x, y = generate_data()\n",
        "\n",
        "plt.figure(figsize = (12,5))\n",
        "ax = plt.subplot(111)\n",
        "ax.scatter(x,y, c = \"b\", label=\"samples\")\n",
        "plt.xlabel(\"x\")\n",
        "plt.ylabel(\"y\",rotation = 0)"
      ],
      "execution_count": 6,
      "outputs": [
        {
          "output_type": "execute_result",
          "data": {
            "text/plain": [
              "Text(0, 0.5, 'y')"
            ]
          },
          "metadata": {
            "tags": []
          },
          "execution_count": 6
        },
        {
          "output_type": "display_data",
          "data": {
            "image/png": "[encoded data removed]",
            "text/plain": [
              "<Figure size 864x360 with 1 Axes>"
            ]
          },
          "metadata": {
            "tags": [],
            "needs_background": "light"
          }
        }
      ]
    },
    {
      "cell_type": "markdown",
      "metadata": {
        "id": "VXw8aEdV4wZ4"
      },
      "source": [
        "# TensorFlow Dynamic Model"
      ]
    },
    {
      "cell_type": "code",
      "metadata": {
        "id": "urXw4sFS4wZ4"
      },
      "source": [
        "class LinearRegressionKeras(tf.keras.Model):\n",
        "    def __init__(self):\n",
        "        super().__init__()\n",
        "        self.w = tf.Variable(tf.random.uniform(shape=[1], minval=-0.1, maxval=0.1))\n",
        "        self.b = tf.Variable(tf.random.uniform(shape=[1], minval=-0.1, maxval=0.1))\n",
        "\n",
        "    def __call__(self,x): \n",
        "        return x * self.w + self.b\n",
        "\n",
        "# class LinearRegressionKeras(tf.keras.Model):\n",
        "#     def __init__(self):\n",
        "#         super().__init__()\n",
        "#         self.params = {\n",
        "#             \"w\" : tf.Variable(tf.random.uniform(shape=[1], minval=-0.1, maxval=0.1)),\n",
        "#             \"b\" : tf.Variable(tf.random.uniform(shape=[1], minval=-0.1, maxval=0.1))\n",
        "#         }        \n",
        "\n",
        "#     def __call__(self,x): \n",
        "#         y_pred = x * self.params[\"w\"] + self.params[\"b\"]\n",
        "#         return y_pred"
      ],
      "execution_count": 7,
      "outputs": []
    },
    {
      "cell_type": "markdown",
      "metadata": {
        "id": "zjoCPvJE4wZ6"
      },
      "source": [
        "# PyTorch Dynamic Model"
      ]
    },
    {
      "cell_type": "code",
      "metadata": {
        "id": "GOXp9c_n4wZ7"
      },
      "source": [
        "class LinearRegressionPyTorch(torch.nn.Module): \n",
        "    def __init__(self): \n",
        "        super().__init__() \n",
        "        self.w = torch.nn.Parameter(torch.Tensor(1, 1))\n",
        "        self.b = torch.nn.Parameter(torch.Tensor(1))\n",
        "        self.w.data.uniform_(-0.1, 0.1)\n",
        "        self.b.data.uniform_(-0.1, 0.1)\n",
        "  \n",
        "    def forward(self, x):  \n",
        "        return x @ self.w + self.b\n",
        "    \n",
        "    \n",
        "# class LinearRegressionPyTorch(torch.nn.Module):\n",
        "#     def __init__(self):\n",
        "#         super(LinearRegressionPyTorch, self).__init__()\n",
        "#         self.linear = torch.nn.Linear(1, 1)  \n",
        "\n",
        "#     def forward(self, x):\n",
        "#         out = self.linear(x)\n",
        "#         return out"
      ],
      "execution_count": 8,
      "outputs": []
    },
    {
      "cell_type": "markdown",
      "metadata": {
        "id": "OTM11lUu4wZ9"
      },
      "source": [
        "# TensorFlow Training"
      ]
    },
    {
      "cell_type": "code",
      "metadata": {
        "id": "pO7qsA2QDf9_"
      },
      "source": [
        "epochs = 500\n",
        "learning_rate = 0.001"
      ],
      "execution_count": 9,
      "outputs": []
    },
    {
      "cell_type": "code",
      "metadata": {
        "id": "F1075c3v4wZ9",
        "outputId": "2ee53729-4ede-4802-e723-afad14a5c0ee",
        "colab": {
          "base_uri": "https://localhost:8080/"
        }
      },
      "source": [
        "@tf.function\n",
        "def squared_error(y_pred, y_true):\n",
        "    return tf.reduce_mean(tf.square(y_pred - y_true))\n",
        "    # diff = y_pred - y_true\n",
        "    # return tf.math.reduce_sum(diff * diff) / tf.size(diff, out_type=tf.dtypes.float32)\n",
        "\n",
        "tf_model = LinearRegressionKeras()\n",
        "[w, b] = tf_model.trainable_variables\n",
        "\n",
        "for epoch in range(epochs):\n",
        "    with tf.GradientTape() as tape:\n",
        "        predictions = tf_model(x)\n",
        "        loss = squared_error(predictions, y)\n",
        "        \n",
        "    w_grad, b_grad = tape.gradient(loss, tf_model.trainable_variables)\n",
        "\n",
        "    w.assign(w - w_grad * learning_rate)\n",
        "    b.assign(b - b_grad * learning_rate)\n",
        "\n",
        "    if epoch % 20 == 0:\n",
        "        print(f\"Epoch {epoch} : Loss {loss.numpy()}\")"
      ],
      "execution_count": 10,
      "outputs": [
        {
          "output_type": "stream",
          "text": [
            "Epoch 0 : Loss 0.7957433462142944\n",
            "Epoch 20 : Loss 0.1871119737625122\n",
            "Epoch 40 : Loss 0.14409132301807404\n",
            "Epoch 60 : Loss 0.13295435905456543\n",
            "Epoch 80 : Loss 0.1242474913597107\n",
            "Epoch 100 : Loss 0.11629663407802582\n",
            "Epoch 120 : Loss 0.10896176099777222\n",
            "Epoch 140 : Loss 0.10219097882509232\n",
            "Epoch 160 : Loss 0.0959407165646553\n",
            "Epoch 180 : Loss 0.09017089754343033\n",
            "Epoch 200 : Loss 0.08484461903572083\n",
            "Epoch 220 : Loss 0.07992777973413467\n",
            "Epoch 240 : Loss 0.07538890838623047\n",
            "Epoch 260 : Loss 0.0711989477276802\n",
            "Epoch 280 : Loss 0.06733108311891556\n",
            "Epoch 300 : Loss 0.06376054137945175\n",
            "Epoch 320 : Loss 0.060464467853307724\n",
            "Epoch 340 : Loss 0.057421766221523285\n",
            "Epoch 360 : Loss 0.05461297556757927\n",
            "Epoch 380 : Loss 0.052020102739334106\n",
            "Epoch 400 : Loss 0.049626536667346954\n",
            "Epoch 420 : Loss 0.04741697385907173\n",
            "Epoch 440 : Loss 0.04537726566195488\n",
            "Epoch 460 : Loss 0.043494340032339096\n",
            "Epoch 480 : Loss 0.04175616428256035\n"
          ],
          "name": "stdout"
        }
      ]
    },
    {
      "cell_type": "markdown",
      "metadata": {
        "id": "Vz7e7zLk4wZ-"
      },
      "source": [
        "# PyTorch Training"
      ]
    },
    {
      "cell_type": "code",
      "metadata": {
        "id": "rrefoEU24wZ_"
      },
      "source": [
        "inputs = torch.autograd.Variable(torch.from_numpy(x.reshape(-1, 1)))\n",
        "labels = torch.autograd.Variable(torch.from_numpy(y.reshape(-1, 1)))\n"
      ],
      "execution_count": 11,
      "outputs": []
    },
    {
      "cell_type": "code",
      "metadata": {
        "id": "i6mHK8sD4waA",
        "outputId": "c7052c07-903d-4886-cdd4-79cb87ee0c72",
        "colab": {
          "base_uri": "https://localhost:8080/"
        }
      },
      "source": [
        "def squared_error(y_pred, y_true):\n",
        "    return torch.mean(torch.square(y_pred - y_true))\n",
        "    # diff = y_pred - y_true\n",
        "    # return torch.sum(diff * diff) / diff.numel()\n",
        "\n",
        "\n",
        "torch_model = LinearRegressionPyTorch()\n",
        "[w, b] = torch_model.parameters()\n",
        "\n",
        "# criterion = torch.nn.MSELoss(reduction='mean')\n",
        "# optimizer = torch.optim.SGD(torch_model.parameters(), lr=learning_rate)\n",
        "\n",
        "for epoch in range(epochs):\n",
        "    y_pred = torch_model(inputs)\n",
        "    loss = squared_error(y_pred, labels)\n",
        "\n",
        "    # optimizer.zero_grad()\n",
        "    loss.backward()\n",
        "    # optimizer.step()\n",
        "\n",
        "    with torch.no_grad():\n",
        "        w -= w.grad * learning_rate\n",
        "        b -= b.grad * learning_rate\n",
        "        w.grad.zero_()\n",
        "        b.grad.zero_()\n",
        "\n",
        "    if epoch % 20 == 0:\n",
        "      print(f\"Epoch {epoch} : Loss {loss.data}\")\n"
      ],
      "execution_count": 12,
      "outputs": [
        {
          "output_type": "stream",
          "text": [
            "Epoch 0 : Loss 1.2648108005523682\n",
            "Epoch 20 : Loss 0.2221870869398117\n",
            "Epoch 40 : Loss 0.15455210208892822\n",
            "Epoch 60 : Loss 0.14140373468399048\n",
            "Epoch 80 : Loss 0.13198088109493256\n",
            "Epoch 100 : Loss 0.12343191355466843\n",
            "Epoch 120 : Loss 0.11554831266403198\n",
            "Epoch 140 : Loss 0.10827119648456573\n",
            "Epoch 160 : Loss 0.1015535369515419\n",
            "Epoch 180 : Loss 0.09535226225852966\n",
            "Epoch 200 : Loss 0.08962768316268921\n",
            "Epoch 220 : Loss 0.08434315770864487\n",
            "Epoch 240 : Loss 0.0794648751616478\n",
            "Epoch 260 : Loss 0.0749615877866745\n",
            "Epoch 280 : Loss 0.07080446928739548\n",
            "Epoch 300 : Loss 0.06696692109107971\n",
            "Epoch 320 : Loss 0.06342437118291855\n",
            "Epoch 340 : Loss 0.06015414744615555\n",
            "Epoch 360 : Loss 0.057135310024023056\n",
            "Epoch 380 : Loss 0.05434852093458176\n",
            "Epoch 400 : Loss 0.0517759695649147\n",
            "Epoch 420 : Loss 0.049401164054870605\n",
            "Epoch 440 : Loss 0.04720892757177353\n",
            "Epoch 460 : Loss 0.04518519341945648\n",
            "Epoch 480 : Loss 0.043317049741744995\n"
          ],
          "name": "stdout"
        }
      ]
    },
    {
      "cell_type": "markdown",
      "metadata": {
        "id": "7rlcy9IF4waC"
      },
      "source": [
        "# Data Visualization"
      ]
    },
    {
      "cell_type": "code",
      "metadata": {
        "id": "HFUgTqN14waD",
        "outputId": "50b56073-822c-40f7-b0d4-beaf5282eb55",
        "colab": {
          "base_uri": "https://localhost:8080/",
          "height": 354
        }
      },
      "source": [
        "[w_tf, b_tf] = tf_model.trainable_variables\n",
        "[w_torch, b_torch] = torch_model.parameters()\n",
        "\n",
        "with torch.no_grad():\n",
        "  plt.figure(figsize = (12,5))\n",
        "  ax = plt.subplot(111)\n",
        "  ax.scatter(x, y, c = \"b\", label=\"samples\")\n",
        "  ax.plot(x, w_tf * x + b_tf, \"r\", linewidth = 5.0, label = \"tensorflow\")\n",
        "  ax.plot(x, w_torch * inputs + b_torch, \"c\", linewidth = 5.0, label = \"pytorch\")\n",
        "  ax.legend()\n",
        "  plt.xlabel(\"x1\")\n",
        "  plt.ylabel(\"y\",rotation = 0)"
      ],
      "execution_count": 13,
      "outputs": [
        {
          "output_type": "display_data",
          "data": {
            "image/png": "[encoded data removed]",
            "text/plain": [
              "<Figure size 864x360 with 1 Axes>"
            ]
          },
          "metadata": {
            "tags": [],
            "needs_background": "light"
          }
        }
      ]
    },
    {
      "cell_type": "code",
      "metadata": {
        "id": "XN9IAZ4j7Cf6"
      },
      "source": [
        ""
      ],
      "execution_count": 13,
      "outputs": []
    }
  ]
}