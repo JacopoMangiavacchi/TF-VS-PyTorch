{
  "nbformat": 4,
  "nbformat_minor": 0,
  "metadata": {
    "kernelspec": {
      "display_name": "Python 3",
      "language": "python",
      "name": "python3"
    },
    "language_info": {
      "codemirror_mode": {
        "name": "ipython",
        "version": 3
      },
      "file_extension": ".py",
      "mimetype": "text/x-python",
      "name": "python",
      "nbconvert_exporter": "python",
      "pygments_lexer": "ipython3",
      "version": "3.7.6"
    },
    "colab": {
      "name": "LinearRegression.ipynb",
      "provenance": [],
      "include_colab_link": true
    }
  },
  "cells": [
    {
      "cell_type": "markdown",
      "metadata": {
        "id": "view-in-github",
        "colab_type": "text"
      },
      "source": [
        "<a href=\"https://colab.research.google.com/github/JacopoMangiavacchi/TF-PyTorch-LinearRegression/blob/main/LinearRegression.ipynb\" target=\"_parent\"><img src=\"https://colab.research.google.com/assets/colab-badge.svg\" alt=\"Open In Colab\"/></a>"
      ]
    },
    {
      "cell_type": "markdown",
      "metadata": {
        "id": "emfCSMQG4wZg"
      },
      "source": [
        "# Import PyTorch and TensorFlow"
      ]
    },
    {
      "cell_type": "code",
      "metadata": {
        "id": "0c906lqY4wZh"
      },
      "source": [
        "%tensorflow_version 2.x"
      ],
      "execution_count": 1,
      "outputs": []
    },
    {
      "cell_type": "code",
      "metadata": {
        "id": "-GJ3rN3R4wZn",
        "outputId": "5d1329f8-dbb1-4040-ca97-41f8a70af65c",
        "colab": {
          "base_uri": "https://localhost:8080/",
          "height": 34
        }
      },
      "source": [
        "import tensorflow as tf\n",
        "print(f\"tensorflow version: {tf.__version__}\")"
      ],
      "execution_count": 2,
      "outputs": [
        {
          "output_type": "stream",
          "text": [
            "tensorflow version: 2.3.0\n"
          ],
          "name": "stdout"
        }
      ]
    },
    {
      "cell_type": "code",
      "metadata": {
        "id": "A85pp2Tn4wZs",
        "outputId": "818e6be3-1304-4197-e63a-739d4352bf7d",
        "colab": {
          "base_uri": "https://localhost:8080/",
          "height": 34
        }
      },
      "source": [
        "import torch\n",
        "print(f\"pytorch version: {torch.__version__}\")"
      ],
      "execution_count": 3,
      "outputs": [
        {
          "output_type": "stream",
          "text": [
            "pytorch version: 1.6.0+cu101\n"
          ],
          "name": "stdout"
        }
      ]
    },
    {
      "cell_type": "markdown",
      "metadata": {
        "id": "kH0qo4mQ4wZv"
      },
      "source": [
        "# Generating the datasets"
      ]
    },
    {
      "cell_type": "code",
      "metadata": {
        "id": "4ifmVYyy4wZv"
      },
      "source": [
        "import numpy as np\n",
        "import matplotlib.pyplot as plt"
      ],
      "execution_count": 4,
      "outputs": []
    },
    {
      "cell_type": "code",
      "metadata": {
        "id": "CMPBuJxd4wZy"
      },
      "source": [
        "def generate_data(m=0.1, b=0.3, n=200):\n",
        "    x = tf.random.uniform(shape=(n,),minval=-10,maxval=10) \n",
        "    noise = tf.random.normal(shape=(len(x),), stddev=0.15)\n",
        "    y = (m * x + b ) + noise\n",
        "    return x.numpy(), y.numpy()"
      ],
      "execution_count": 5,
      "outputs": []
    },
    {
      "cell_type": "markdown",
      "metadata": {
        "id": "QgGeUkn54wZ0"
      },
      "source": [
        "## Data Visualization"
      ]
    },
    {
      "cell_type": "code",
      "metadata": {
        "id": "ffKgDR8w4wZ1",
        "outputId": "5a4baff6-3ba5-4383-83c6-713f7e06a4f4",
        "colab": {
          "base_uri": "https://localhost:8080/",
          "height": 351
        }
      },
      "source": [
        "m = tf.Variable(0.)\n",
        "b = tf.Variable(0.)\n",
        "x, y = generate_data()\n",
        "plt.figure(figsize = (12,5))\n",
        "ax = plt.subplot(111)\n",
        "ax.scatter(x,y, c = \"b\", label=\"samples\")\n",
        "ax.plot(x,m*x+b,\"-r\",linewidth = 5.0,label = \"model\")\n",
        "plt.xlabel(\"x1\")\n",
        "plt.ylabel(\"y\",rotation = 0)"
      ],
      "execution_count": 6,
      "outputs": [
        {
          "output_type": "execute_result",
          "data": {
            "text/plain": [
              "Text(0, 0.5, 'y')"
            ]
          },
          "metadata": {
            "tags": []
          },
          "execution_count": 6
        },
        {
          "output_type": "display_data",
          "data": {
            "image/png": "[encoded data removed]",
            "text/plain": [
              "<Figure size 864x360 with 1 Axes>"
            ]
          },
          "metadata": {
            "tags": [],
            "needs_background": "light"
          }
        }
      ]
    },
    {
      "cell_type": "markdown",
      "metadata": {
        "id": "VXw8aEdV4wZ4"
      },
      "source": [
        "# TensorFlow Model"
      ]
    },
    {
      "cell_type": "code",
      "metadata": {
        "id": "urXw4sFS4wZ4"
      },
      "source": [
        "class LinearRegressionKeras:\n",
        "    def __init__(self):\n",
        "        self.params = {\n",
        "            \"w\" : tf.Variable(0.),\n",
        "            \"b\" : tf.Variable(0.)\n",
        "        }        \n",
        "\n",
        "    def __call__(self,x): \n",
        "        y_pred = self.params[\"w\"] * x + self.params[\"b\"]\n",
        "        return y_pred"
      ],
      "execution_count": 7,
      "outputs": []
    },
    {
      "cell_type": "markdown",
      "metadata": {
        "id": "zjoCPvJE4wZ6"
      },
      "source": [
        "# PyTorch Model"
      ]
    },
    {
      "cell_type": "code",
      "metadata": {
        "id": "GOXp9c_n4wZ7"
      },
      "source": [
        "class LinearRegressionPyTorch(torch.nn.Module): \n",
        "    def __init__(self): \n",
        "        super(LinearRegressionPyTorch, self).__init__() \n",
        "        self.w = torch.nn.Parameter(torch.Tensor(1, 1))\n",
        "        self.b = torch.nn.Parameter(torch.Tensor(1))\n",
        "        self.w.data.uniform_(-0.1, 0.1)\n",
        "        self.b.data.uniform_(-0.1, 0.1)\n",
        "  \n",
        "    def forward(self, x):  \n",
        "        return x @ self.w + self.b\n",
        "    \n",
        "    \n",
        "# class LinearRegressionPyTorch(torch.nn.Module):\n",
        "#     def __init__(self):\n",
        "#         super(LinearRegressionPyTorch, self).__init__()\n",
        "#         self.linear = torch.nn.Linear(1, 1)  \n",
        "\n",
        "#     def forward(self, x):\n",
        "#         out = self.linear(x)\n",
        "#         return out"
      ],
      "execution_count": 8,
      "outputs": []
    },
    {
      "cell_type": "markdown",
      "metadata": {
        "id": "OTM11lUu4wZ9"
      },
      "source": [
        "# TensorFlow Training"
      ]
    },
    {
      "cell_type": "code",
      "metadata": {
        "id": "pO7qsA2QDf9_"
      },
      "source": [
        "epochs = 500\n",
        "learning_rate = 0.001"
      ],
      "execution_count": 9,
      "outputs": []
    },
    {
      "cell_type": "code",
      "metadata": {
        "id": "F1075c3v4wZ9",
        "outputId": "075b90d1-6a40-460f-caec-6e5c8c3ded42",
        "colab": {
          "base_uri": "https://localhost:8080/",
          "height": 425
        }
      },
      "source": [
        "def squared_error(y_pred, y_true):\n",
        "    return tf.reduce_mean(tf.square(y_pred - y_true))\n",
        "\n",
        "tf_model = LinearRegressionKeras()\n",
        "\n",
        "for epoch in tf.range(1,epochs):\n",
        "    with tf.GradientTape() as tape:\n",
        "        predictions = tf_model(x)\n",
        "        loss = squared_error(predictions, y)\n",
        "        \n",
        "    dloss_dw,dloss_db = tape.gradient(loss, [tf_model.params[\"w\"], tf_model.params[\"b\"]])\n",
        "\n",
        "    tf_model.params[\"w\"].assign(tf_model.params[\"w\"] - learning_rate*dloss_dw)\n",
        "    tf_model.params[\"b\"].assign(tf_model.params[\"b\"] - learning_rate*dloss_db)\n",
        "    if epoch % 20 == 0:\n",
        "        print(f\"Step {epoch}, Loss {loss.numpy()}\") # we print the loss only each 20 epochs"
      ],
      "execution_count": 10,
      "outputs": [
        {
          "output_type": "stream",
          "text": [
            "Step 20, Loss 0.13607987761497498\n",
            "Step 40, Loss 0.10550859570503235\n",
            "Step 60, Loss 0.0978144183754921\n",
            "Step 80, Loss 0.09178649634122849\n",
            "Step 100, Loss 0.08627558499574661\n",
            "Step 120, Loss 0.08118858188390732\n",
            "Step 140, Loss 0.07649026066064835\n",
            "Step 160, Loss 0.07215078175067902\n",
            "Step 180, Loss 0.06814274936914444\n",
            "Step 200, Loss 0.06444083899259567\n",
            "Step 220, Loss 0.06102168187499046\n",
            "Step 240, Loss 0.057863663882017136\n",
            "Step 260, Loss 0.05494684725999832\n",
            "Step 280, Loss 0.05225280299782753\n",
            "Step 300, Loss 0.04976453632116318\n",
            "Step 320, Loss 0.04746631532907486\n",
            "Step 340, Loss 0.04534361883997917\n",
            "Step 360, Loss 0.04338305443525314\n",
            "Step 380, Loss 0.04157222807407379\n",
            "Step 400, Loss 0.03989970311522484\n",
            "Step 420, Loss 0.03835493326187134\n",
            "Step 440, Loss 0.036928147077560425\n",
            "Step 460, Loss 0.03561033681035042\n",
            "Step 480, Loss 0.03439316898584366\n"
          ],
          "name": "stdout"
        }
      ]
    },
    {
      "cell_type": "markdown",
      "metadata": {
        "id": "Vz7e7zLk4wZ-"
      },
      "source": [
        "# PyTorch Training"
      ]
    },
    {
      "cell_type": "code",
      "metadata": {
        "id": "rrefoEU24wZ_"
      },
      "source": [
        "inputs = torch.autograd.Variable(torch.from_numpy(x.reshape(-1, 1)))\n",
        "labels = torch.autograd.Variable(torch.from_numpy(y.reshape(-1, 1)))\n"
      ],
      "execution_count": 11,
      "outputs": []
    },
    {
      "cell_type": "code",
      "metadata": {
        "id": "i6mHK8sD4waA",
        "outputId": "3162f698-ffd3-4855-cfd9-cd1440b81c94",
        "colab": {
          "base_uri": "https://localhost:8080/",
          "height": 442
        }
      },
      "source": [
        "def squared_error(y_pred, y_true):\n",
        "    diff = y_pred - y_true\n",
        "    return torch.sum(diff * diff) / diff.numel()\n",
        "\n",
        "\n",
        "torch_model = LinearRegressionPyTorch()\n",
        "[w, b] = torch_model.parameters()\n",
        "\n",
        "# criterion = torch.nn.MSELoss(reduction='mean')\n",
        "# optimizer = torch.optim.SGD(torch_model.parameters(), lr=learning_rate)\n",
        "\n",
        "for epoch in range(epochs):\n",
        "    epoch_loss = 0\n",
        "    y_pred = torch_model(inputs)\n",
        "\n",
        "    loss = squared_error(y_pred, labels)\n",
        "\n",
        "    epoch_loss = loss.data\n",
        "\n",
        "    # optimizer.zero_grad()\n",
        "    loss.backward()\n",
        "    # optimizer.step()\n",
        "\n",
        "    with torch.no_grad():\n",
        "        w -= w.grad * learning_rate\n",
        "        b -= b.grad * learning_rate\n",
        "        w.grad.zero_()\n",
        "        b.grad.zero_()\n",
        "\n",
        "    if epoch % 20 == 0:\n",
        "      print(\"Epoch {} : Loss {}\".format(epoch, epoch_loss))\n"
      ],
      "execution_count": 12,
      "outputs": [
        {
          "output_type": "stream",
          "text": [
            "Epoch 0 : Loss 0.6209157705307007\n",
            "Epoch 20 : Loss 0.16410431265830994\n",
            "Epoch 40 : Loss 0.13149896264076233\n",
            "Epoch 60 : Loss 0.12182530760765076\n",
            "Epoch 80 : Loss 0.11396379768848419\n",
            "Epoch 100 : Loss 0.10675906389951706\n",
            "Epoch 120 : Loss 0.1001075804233551\n",
            "Epoch 140 : Loss 0.09396424144506454\n",
            "Epoch 160 : Loss 0.08829017728567123\n",
            "Epoch 180 : Loss 0.0830494612455368\n",
            "Epoch 200 : Loss 0.0782090276479721\n",
            "Epoch 220 : Loss 0.07373827695846558\n",
            "Epoch 240 : Loss 0.06960900872945786\n",
            "Epoch 260 : Loss 0.06579509377479553\n",
            "Epoch 280 : Loss 0.06227250024676323\n",
            "Epoch 300 : Loss 0.059018947184085846\n",
            "Epoch 320 : Loss 0.05601389333605766\n",
            "Epoch 340 : Loss 0.05323835462331772\n",
            "Epoch 360 : Loss 0.050674811005592346\n",
            "Epoch 380 : Loss 0.04830705001950264\n",
            "Epoch 400 : Loss 0.04612013325095177\n",
            "Epoch 420 : Loss 0.04410027340054512\n",
            "Epoch 440 : Loss 0.04223468154668808\n",
            "Epoch 460 : Loss 0.040511563420295715\n",
            "Epoch 480 : Loss 0.03892005234956741\n"
          ],
          "name": "stdout"
        }
      ]
    },
    {
      "cell_type": "markdown",
      "metadata": {
        "id": "7rlcy9IF4waC"
      },
      "source": [
        "# Data Visualization"
      ]
    },
    {
      "cell_type": "code",
      "metadata": {
        "id": "LqYVFGxi5yLM",
        "outputId": "e913f4c5-c874-499c-f0fb-3a0e33c177ea",
        "colab": {
          "base_uri": "https://localhost:8080/",
          "height": 34
        }
      },
      "source": [
        "tf_model.params[\"w\"].numpy(), tf_model.params[\"b\"].numpy(), w.tolist()[0][0], b.tolist()[0]"
      ],
      "execution_count": 13,
      "outputs": [
        {
          "output_type": "execute_result",
          "data": {
            "text/plain": [
              "(0.1043277, 0.19993056, 0.10458081215620041, 0.18313688039779663)"
            ]
          },
          "metadata": {
            "tags": []
          },
          "execution_count": 13
        }
      ]
    },
    {
      "cell_type": "code",
      "metadata": {
        "id": "HFUgTqN14waD",
        "outputId": "c90fc8b0-a684-4c90-d38d-77a99c3a70bd",
        "colab": {
          "base_uri": "https://localhost:8080/",
          "height": 334
        }
      },
      "source": [
        "with torch.no_grad():\n",
        "  x_train, y_train = generate_data()\n",
        "  plt.figure(figsize = (12,5))\n",
        "  ax = plt.subplot(111)\n",
        "  ax.scatter(x_train,y_train, c = \"b\", label=\"samples\")\n",
        "  ax.plot(x, tf_model.params[\"w\"] * x + tf_model.params[\"b\"], \"r\", linewidth = 5.0, label = \"tensorflow\")\n",
        "  ax.plot(x, w * inputs + b, \"c\", linewidth = 5.0, label = \"pytorch\")\n",
        "  ax.legend()\n",
        "  plt.xlabel(\"x1\")\n",
        "  plt.ylabel(\"y\",rotation = 0)"
      ],
      "execution_count": 14,
      "outputs": [
        {
          "output_type": "display_data",
          "data": {
            "image/png": "[encoded data removed]",
            "text/plain": [
              "<Figure size 864x360 with 1 Axes>"
            ]
          },
          "metadata": {
            "tags": [],
            "needs_background": "light"
          }
        }
      ]
    },
    {
      "cell_type": "code",
      "metadata": {
        "id": "XN9IAZ4j7Cf6"
      },
      "source": [
        ""
      ],
      "execution_count": 14,
      "outputs": []
    }
  ]
}