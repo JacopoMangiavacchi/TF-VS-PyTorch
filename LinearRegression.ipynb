{
  "nbformat": 4,
  "nbformat_minor": 0,
  "metadata": {
    "kernelspec": {
      "display_name": "Python 3",
      "language": "python",
      "name": "python3"
    },
    "language_info": {
      "codemirror_mode": {
        "name": "ipython",
        "version": 3
      },
      "file_extension": ".py",
      "mimetype": "text/x-python",
      "name": "python",
      "nbconvert_exporter": "python",
      "pygments_lexer": "ipython3",
      "version": "3.7.6"
    },
    "colab": {
      "name": "LinearRegression.ipynb",
      "provenance": [],
      "include_colab_link": true
    }
  },
  "cells": [
    {
      "cell_type": "markdown",
      "metadata": {
        "id": "view-in-github",
        "colab_type": "text"
      },
      "source": [
        "<a href=\"https://colab.research.google.com/github/JacopoMangiavacchi/TF-VS-PyTorch/blob/main/LinearRegression.ipynb\" target=\"_parent\"><img src=\"https://colab.research.google.com/assets/colab-badge.svg\" alt=\"Open In Colab\"/></a>"
      ]
    },
    {
      "cell_type": "markdown",
      "metadata": {
        "id": "emfCSMQG4wZg"
      },
      "source": [
        "# Import PyTorch and TensorFlow"
      ]
    },
    {
      "cell_type": "code",
      "metadata": {
        "id": "0c906lqY4wZh"
      },
      "source": [
        "%tensorflow_version 2.x"
      ],
      "execution_count": 1,
      "outputs": []
    },
    {
      "cell_type": "code",
      "metadata": {
        "id": "-GJ3rN3R4wZn",
        "outputId": "df0706a9-1bb7-4e97-aff8-826aa7bf9561",
        "colab": {
          "base_uri": "https://localhost:8080/"
        }
      },
      "source": [
        "import tensorflow as tf\n",
        "print(f\"tensorflow version: {tf.__version__}\")"
      ],
      "execution_count": 2,
      "outputs": [
        {
          "output_type": "stream",
          "text": [
            "tensorflow version: 2.3.0\n"
          ],
          "name": "stdout"
        }
      ]
    },
    {
      "cell_type": "code",
      "metadata": {
        "id": "A85pp2Tn4wZs",
        "outputId": "9d9bba54-4447-45a9-a2e2-7ad55d4a523d",
        "colab": {
          "base_uri": "https://localhost:8080/"
        }
      },
      "source": [
        "import torch\n",
        "print(f\"pytorch version: {torch.__version__}\")"
      ],
      "execution_count": 3,
      "outputs": [
        {
          "output_type": "stream",
          "text": [
            "pytorch version: 1.6.0+cu101\n"
          ],
          "name": "stdout"
        }
      ]
    },
    {
      "cell_type": "markdown",
      "metadata": {
        "id": "kH0qo4mQ4wZv"
      },
      "source": [
        "# Generating the datasets"
      ]
    },
    {
      "cell_type": "code",
      "metadata": {
        "id": "4ifmVYyy4wZv"
      },
      "source": [
        "import numpy as np\n",
        "import matplotlib.pyplot as plt"
      ],
      "execution_count": 4,
      "outputs": []
    },
    {
      "cell_type": "code",
      "metadata": {
        "id": "CMPBuJxd4wZy"
      },
      "source": [
        "def generate_data(m=0.1, b=0.3, n=200):\n",
        "    x = np.random.uniform(-10, 10, n)\n",
        "    noise = np.random.normal(0, 0.15, n)\n",
        "    y = (m * x + b ) + noise\n",
        "    return x.astype(np.float32), y.astype(np.float32)\n",
        "\n",
        "    # x = tf.random.uniform(shape=(n,),minval=-10,maxval=10) \n",
        "    # noise = tf.random.normal(shape=(len(x),), stddev=0.15)\n",
        "    # y = (m * x + b ) + noise\n",
        "    # return x.numpy(), y.numpy()"
      ],
      "execution_count": 5,
      "outputs": []
    },
    {
      "cell_type": "markdown",
      "metadata": {
        "id": "QgGeUkn54wZ0"
      },
      "source": [
        "## Data Visualization"
      ]
    },
    {
      "cell_type": "code",
      "metadata": {
        "id": "ffKgDR8w4wZ1",
        "outputId": "527e862f-97ab-4849-88b8-b871ea6aada8",
        "colab": {
          "base_uri": "https://localhost:8080/",
          "height": 371
        }
      },
      "source": [
        "x, y = generate_data()\n",
        "\n",
        "plt.figure(figsize = (12,5))\n",
        "ax = plt.subplot(111)\n",
        "ax.scatter(x,y, c = \"b\", label=\"samples\")\n",
        "plt.xlabel(\"x\")\n",
        "plt.ylabel(\"y\",rotation = 0)"
      ],
      "execution_count": 6,
      "outputs": [
        {
          "output_type": "execute_result",
          "data": {
            "text/plain": [
              "Text(0, 0.5, 'y')"
            ]
          },
          "metadata": {
            "tags": []
          },
          "execution_count": 6
        },
        {
          "output_type": "display_data",
          "data": {
            "image/png": "[encoded data removed]",
            "text/plain": [
              "<Figure size 864x360 with 1 Axes>"
            ]
          },
          "metadata": {
            "tags": [],
            "needs_background": "light"
          }
        }
      ]
    },
    {
      "cell_type": "markdown",
      "metadata": {
        "id": "VXw8aEdV4wZ4"
      },
      "source": [
        "# TensorFlow Dynamic Model"
      ]
    },
    {
      "cell_type": "code",
      "metadata": {
        "id": "urXw4sFS4wZ4"
      },
      "source": [
        "class LinearRegressionKeras(tf.keras.Model):\n",
        "    def __init__(self):\n",
        "        super().__init__()\n",
        "        self.w = tf.Variable(tf.random.uniform(shape=[1], minval=-0.1, maxval=0.1))\n",
        "        self.b = tf.Variable(tf.random.uniform(shape=[1], minval=-0.1, maxval=0.1))\n",
        "\n",
        "    def __call__(self,x): \n",
        "        return x * self.w + self.b\n",
        "\n",
        "# class LinearRegressionKeras(tf.keras.Model):\n",
        "#     def __init__(self):\n",
        "#         super().__init__()\n",
        "#         self.params = {\n",
        "#             \"w\" : tf.Variable(tf.random.uniform(shape=[1], minval=-0.1, maxval=0.1)),\n",
        "#             \"b\" : tf.Variable(tf.random.uniform(shape=[1], minval=-0.1, maxval=0.1))\n",
        "#         }        \n",
        "\n",
        "#     def __call__(self,x): \n",
        "#         y_pred = x * self.params[\"w\"] + self.params[\"b\"]\n",
        "#         return y_pred"
      ],
      "execution_count": 7,
      "outputs": []
    },
    {
      "cell_type": "markdown",
      "metadata": {
        "id": "zjoCPvJE4wZ6"
      },
      "source": [
        "# PyTorch Dynamic Model"
      ]
    },
    {
      "cell_type": "code",
      "metadata": {
        "id": "GOXp9c_n4wZ7"
      },
      "source": [
        "class LinearRegressionPyTorch(torch.nn.Module): \n",
        "    def __init__(self): \n",
        "        super().__init__() \n",
        "        self.w = torch.nn.Parameter(torch.Tensor(1, 1))\n",
        "        self.b = torch.nn.Parameter(torch.Tensor(1))\n",
        "        self.w.data.uniform_(-0.1, 0.1)\n",
        "        self.b.data.uniform_(-0.1, 0.1)\n",
        "  \n",
        "    def forward(self, x):  \n",
        "        return x @ self.w + self.b\n",
        "    \n",
        "    \n",
        "# class LinearRegressionPyTorch(torch.nn.Module):\n",
        "#     def __init__(self):\n",
        "#         super(LinearRegressionPyTorch, self).__init__()\n",
        "#         self.linear = torch.nn.Linear(1, 1)  \n",
        "\n",
        "#     def forward(self, x):\n",
        "#         out = self.linear(x)\n",
        "#         return out"
      ],
      "execution_count": 8,
      "outputs": []
    },
    {
      "cell_type": "markdown",
      "metadata": {
        "id": "OTM11lUu4wZ9"
      },
      "source": [
        "# TensorFlow Training"
      ]
    },
    {
      "cell_type": "code",
      "metadata": {
        "id": "pO7qsA2QDf9_"
      },
      "source": [
        "epochs = 500\n",
        "learning_rate = 0.001"
      ],
      "execution_count": 9,
      "outputs": []
    },
    {
      "cell_type": "code",
      "metadata": {
        "id": "F1075c3v4wZ9",
        "outputId": "279aeed9-f939-4c75-f4f1-88a6dfd98298",
        "colab": {
          "base_uri": "https://localhost:8080/"
        }
      },
      "source": [
        "def squared_error(y_pred, y_true):\n",
        "    return tf.reduce_mean(tf.square(y_pred - y_true))\n",
        "    # diff = y_pred - y_true\n",
        "    # return tf.math.reduce_sum(diff * diff) / tf.size(diff, out_type=tf.dtypes.float32)\n",
        "\n",
        "tf_model = LinearRegressionKeras()\n",
        "[w, b] = tf_model.trainable_variables\n",
        "\n",
        "for epoch in range(epochs):\n",
        "    with tf.GradientTape() as tape:\n",
        "        predictions = tf_model(x)\n",
        "        loss = squared_error(predictions, y)\n",
        "        \n",
        "    w_grad, b_grad = tape.gradient(loss, tf_model.trainable_variables)\n",
        "\n",
        "    w.assign(w - w_grad * learning_rate)\n",
        "    b.assign(b - b_grad * learning_rate)\n",
        "\n",
        "    if epoch % 20 == 0:\n",
        "        print(f\"Epoch {epoch} : Loss {loss.numpy()}\")"
      ],
      "execution_count": 10,
      "outputs": [
        {
          "output_type": "stream",
          "text": [
            "Epoch 0 : Loss 0.279054194688797\n",
            "Epoch 20 : Loss 0.12457714229822159\n",
            "Epoch 40 : Loss 0.10902520269155502\n",
            "Epoch 60 : Loss 0.10212395340204239\n",
            "Epoch 80 : Loss 0.0961911603808403\n",
            "Epoch 100 : Loss 0.09074058383703232\n",
            "Epoch 120 : Loss 0.08571096509695053\n",
            "Epoch 140 : Loss 0.0810684934258461\n",
            "Epoch 160 : Loss 0.07678332179784775\n",
            "Epoch 180 : Loss 0.07282790541648865\n",
            "Epoch 200 : Loss 0.06917688995599747\n",
            "Epoch 220 : Loss 0.06580684334039688\n",
            "Epoch 240 : Loss 0.06269614398479462\n",
            "Epoch 260 : Loss 0.059824828058481216\n",
            "Epoch 280 : Loss 0.05717449262738228\n",
            "Epoch 300 : Loss 0.054728105664253235\n",
            "Epoch 320 : Loss 0.05246999114751816\n",
            "Epoch 340 : Loss 0.050385650247335434\n",
            "Epoch 360 : Loss 0.048461705446243286\n",
            "Epoch 380 : Loss 0.04668581113219261\n",
            "Epoch 400 : Loss 0.0450466051697731\n",
            "Epoch 420 : Loss 0.04353352636098862\n",
            "Epoch 440 : Loss 0.04213689640164375\n",
            "Epoch 460 : Loss 0.04084775969386101\n",
            "Epoch 480 : Loss 0.0396578274667263\n"
          ],
          "name": "stdout"
        }
      ]
    },
    {
      "cell_type": "markdown",
      "metadata": {
        "id": "Vz7e7zLk4wZ-"
      },
      "source": [
        "# PyTorch Training"
      ]
    },
    {
      "cell_type": "code",
      "metadata": {
        "id": "rrefoEU24wZ_"
      },
      "source": [
        "inputs = torch.autograd.Variable(torch.from_numpy(x.reshape(-1, 1)))\n",
        "labels = torch.autograd.Variable(torch.from_numpy(y.reshape(-1, 1)))\n"
      ],
      "execution_count": 11,
      "outputs": []
    },
    {
      "cell_type": "code",
      "metadata": {
        "id": "i6mHK8sD4waA",
        "outputId": "d4afc733-8dff-4520-c6e5-38244f95e5bb",
        "colab": {
          "base_uri": "https://localhost:8080/"
        }
      },
      "source": [
        "def squared_error(y_pred, y_true):\n",
        "    return torch.mean(torch.square(y_pred - y_true))\n",
        "    # diff = y_pred - y_true\n",
        "    # return torch.sum(diff * diff) / diff.numel()\n",
        "\n",
        "\n",
        "torch_model = LinearRegressionPyTorch()\n",
        "[w, b] = torch_model.parameters()\n",
        "\n",
        "# criterion = torch.nn.MSELoss(reduction='mean')\n",
        "# optimizer = torch.optim.SGD(torch_model.parameters(), lr=learning_rate)\n",
        "\n",
        "for epoch in range(epochs):\n",
        "    y_pred = torch_model(inputs)\n",
        "    loss = squared_error(y_pred, labels)\n",
        "\n",
        "    # optimizer.zero_grad()\n",
        "    loss.backward()\n",
        "    # optimizer.step()\n",
        "\n",
        "    with torch.no_grad():\n",
        "        w -= w.grad * learning_rate\n",
        "        b -= b.grad * learning_rate\n",
        "        w.grad.zero_()\n",
        "        b.grad.zero_()\n",
        "\n",
        "    if epoch % 20 == 0:\n",
        "      print(f\"Epoch {epoch} : Loss {loss.data}\")\n"
      ],
      "execution_count": 12,
      "outputs": [
        {
          "output_type": "stream",
          "text": [
            "Epoch 0 : Loss 1.4271912574768066\n",
            "Epoch 20 : Loss 0.22078648209571838\n",
            "Epoch 40 : Loss 0.14129355549812317\n",
            "Epoch 60 : Loss 0.12859176099300385\n",
            "Epoch 80 : Loss 0.1204274371266365\n",
            "Epoch 100 : Loss 0.1131003126502037\n",
            "Epoch 120 : Loss 0.10634930431842804\n",
            "Epoch 140 : Loss 0.10011854767799377\n",
            "Epoch 160 : Loss 0.09436734020709991\n",
            "Epoch 180 : Loss 0.08905872702598572\n",
            "Epoch 200 : Loss 0.08415861427783966\n",
            "Epoch 220 : Loss 0.07963564246892929\n",
            "Epoch 240 : Loss 0.07546070218086243\n",
            "Epoch 260 : Loss 0.0716070681810379\n",
            "Epoch 280 : Loss 0.06805001199245453\n",
            "Epoch 300 : Loss 0.06476667523384094\n",
            "Epoch 320 : Loss 0.06173602119088173\n",
            "Epoch 340 : Loss 0.058938588947057724\n",
            "Epoch 360 : Loss 0.05635643005371094\n",
            "Epoch 380 : Loss 0.0539730042219162\n",
            "Epoch 400 : Loss 0.05177299678325653\n",
            "Epoch 420 : Loss 0.04974229633808136\n",
            "Epoch 440 : Loss 0.04786785691976547\n",
            "Epoch 460 : Loss 0.04613768681883812\n",
            "Epoch 480 : Loss 0.0445406399667263\n"
          ],
          "name": "stdout"
        }
      ]
    },
    {
      "cell_type": "markdown",
      "metadata": {
        "id": "7rlcy9IF4waC"
      },
      "source": [
        "# Data Visualization"
      ]
    },
    {
      "cell_type": "code",
      "metadata": {
        "id": "HFUgTqN14waD",
        "outputId": "306bce27-6947-469c-fa2f-95d24d3d7652",
        "colab": {
          "base_uri": "https://localhost:8080/",
          "height": 354
        }
      },
      "source": [
        "[w_tf, b_tf] = tf_model.trainable_variables\n",
        "[w_torch, b_torch] = torch_model.parameters()\n",
        "\n",
        "with torch.no_grad():\n",
        "  plt.figure(figsize = (12,5))\n",
        "  ax = plt.subplot(111)\n",
        "  ax.scatter(x, y, c = \"b\", label=\"samples\")\n",
        "  ax.plot(x, w_tf * x + b_tf, \"r\", linewidth = 5.0, label = \"tensorflow\")\n",
        "  ax.plot(x, w_torch * inputs + b_torch, \"c\", linewidth = 5.0, label = \"pytorch\")\n",
        "  ax.legend()\n",
        "  plt.xlabel(\"x1\")\n",
        "  plt.ylabel(\"y\",rotation = 0)"
      ],
      "execution_count": 13,
      "outputs": [
        {
          "output_type": "display_data",
          "data": {
            "image/png": "[encoded data removed]",
            "text/plain": [
              "<Figure size 864x360 with 1 Axes>"
            ]
          },
          "metadata": {
            "tags": [],
            "needs_background": "light"
          }
        }
      ]
    },
    {
      "cell_type": "code",
      "metadata": {
        "id": "XN9IAZ4j7Cf6"
      },
      "source": [
        ""
      ],
      "execution_count": 13,
      "outputs": []
    }
  ]
}