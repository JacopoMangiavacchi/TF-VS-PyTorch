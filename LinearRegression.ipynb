{
  "nbformat": 4,
  "nbformat_minor": 0,
  "metadata": {
    "kernelspec": {
      "display_name": "Python 3",
      "language": "python",
      "name": "python3"
    },
    "language_info": {
      "codemirror_mode": {
        "name": "ipython",
        "version": 3
      },
      "file_extension": ".py",
      "mimetype": "text/x-python",
      "name": "python",
      "nbconvert_exporter": "python",
      "pygments_lexer": "ipython3",
      "version": "3.7.6"
    },
    "colab": {
      "name": "LinearRegression.ipynb",
      "provenance": [],
      "include_colab_link": true
    }
  },
  "cells": [
    {
      "cell_type": "markdown",
      "metadata": {
        "id": "view-in-github",
        "colab_type": "text"
      },
      "source": [
        "<a href=\"https://colab.research.google.com/github/JacopoMangiavacchi/TF-PyTorch-LinearRegression/blob/main/LinearRegression.ipynb\" target=\"_parent\"><img src=\"https://colab.research.google.com/assets/colab-badge.svg\" alt=\"Open In Colab\"/></a>"
      ]
    },
    {
      "cell_type": "markdown",
      "metadata": {
        "id": "emfCSMQG4wZg"
      },
      "source": [
        "# Import PyTorch and TensorFlow"
      ]
    },
    {
      "cell_type": "code",
      "metadata": {
        "id": "0c906lqY4wZh"
      },
      "source": [
        "%tensorflow_version 2.x"
      ],
      "execution_count": 1,
      "outputs": []
    },
    {
      "cell_type": "code",
      "metadata": {
        "id": "-GJ3rN3R4wZn",
        "outputId": "eeb0fa96-6474-4743-9b14-9464cf50a2b0",
        "colab": {
          "base_uri": "https://localhost:8080/",
          "height": 34
        }
      },
      "source": [
        "import tensorflow as tf\n",
        "print(f\"tensorflow version: {tf.__version__}\")"
      ],
      "execution_count": 2,
      "outputs": [
        {
          "output_type": "stream",
          "text": [
            "tensorflow version: 2.3.0\n"
          ],
          "name": "stdout"
        }
      ]
    },
    {
      "cell_type": "code",
      "metadata": {
        "id": "A85pp2Tn4wZs",
        "outputId": "30c79594-f74e-4fb2-e995-958e2731fd08",
        "colab": {
          "base_uri": "https://localhost:8080/",
          "height": 34
        }
      },
      "source": [
        "import torch\n",
        "print(f\"pytorch version: {torch.__version__}\")"
      ],
      "execution_count": 3,
      "outputs": [
        {
          "output_type": "stream",
          "text": [
            "pytorch version: 1.6.0+cu101\n"
          ],
          "name": "stdout"
        }
      ]
    },
    {
      "cell_type": "markdown",
      "metadata": {
        "id": "kH0qo4mQ4wZv"
      },
      "source": [
        "# Generating the datasets"
      ]
    },
    {
      "cell_type": "code",
      "metadata": {
        "id": "4ifmVYyy4wZv"
      },
      "source": [
        "import numpy as np\n",
        "import matplotlib.pyplot as plt"
      ],
      "execution_count": 4,
      "outputs": []
    },
    {
      "cell_type": "code",
      "metadata": {
        "id": "CMPBuJxd4wZy"
      },
      "source": [
        "def generate_data(m=0.1, b=0.3, n=200):\n",
        "    x = tf.random.uniform(shape=(n,),minval=-10,maxval=10) \n",
        "    noise = tf.random.normal(shape=(len(x),), stddev=0.15)\n",
        "    y = (m * x + b ) + noise\n",
        "    return x, y"
      ],
      "execution_count": 5,
      "outputs": []
    },
    {
      "cell_type": "markdown",
      "metadata": {
        "id": "QgGeUkn54wZ0"
      },
      "source": [
        "## Data Visualization"
      ]
    },
    {
      "cell_type": "code",
      "metadata": {
        "id": "ffKgDR8w4wZ1",
        "outputId": "e971bb73-3d76-400e-a6fb-144f17a062af",
        "colab": {
          "base_uri": "https://localhost:8080/",
          "height": 351
        }
      },
      "source": [
        "m = tf.Variable(0.)\n",
        "b = tf.Variable(0.)\n",
        "x, y = generate_data()\n",
        "plt.figure(figsize = (12,5))\n",
        "ax = plt.subplot(111)\n",
        "ax.scatter(x,y, c = \"b\", label=\"samples\")\n",
        "ax.plot(x,m*x+b,\"-r\",linewidth = 5.0,label = \"model\")\n",
        "plt.xlabel(\"x1\")\n",
        "plt.ylabel(\"y\",rotation = 0)"
      ],
      "execution_count": 6,
      "outputs": [
        {
          "output_type": "execute_result",
          "data": {
            "text/plain": [
              "Text(0, 0.5, 'y')"
            ]
          },
          "metadata": {
            "tags": []
          },
          "execution_count": 6
        },
        {
          "output_type": "display_data",
          "data": {
            "image/png": "[encoded data removed]",
            "text/plain": [
              "<Figure size 864x360 with 1 Axes>"
            ]
          },
          "metadata": {
            "tags": [],
            "needs_background": "light"
          }
        }
      ]
    },
    {
      "cell_type": "markdown",
      "metadata": {
        "id": "VXw8aEdV4wZ4"
      },
      "source": [
        "# TensorFlow Model"
      ]
    },
    {
      "cell_type": "code",
      "metadata": {
        "id": "urXw4sFS4wZ4"
      },
      "source": [
        "class LinearRegressionKeras:\n",
        "    def __init__(self):\n",
        "        self.params = {\n",
        "            \"w\" : tf.Variable(0.),\n",
        "            \"b\" : tf.Variable(0.)\n",
        "        }        \n",
        "\n",
        "    def __call__(self,x): \n",
        "        y_pred = self.params[\"w\"] * x + self.params[\"b\"]\n",
        "        return y_pred"
      ],
      "execution_count": 7,
      "outputs": []
    },
    {
      "cell_type": "markdown",
      "metadata": {
        "id": "zjoCPvJE4wZ6"
      },
      "source": [
        "# PyTorch Model"
      ]
    },
    {
      "cell_type": "code",
      "metadata": {
        "id": "GOXp9c_n4wZ7"
      },
      "source": [
        "# class LinearRegressionPyTorch(torch.nn.Module): \n",
        "#     def __init__(self): \n",
        "#         super(LinearRegressionPyTorch, self).__init__() \n",
        "#         self.w = torch.tensor([0.0])\n",
        "#         self.b = torch.tensor([0.0])\n",
        "  \n",
        "#     def forward(self, x):  \n",
        "#         return x @ self.w + self.b\n",
        "    \n",
        "    \n",
        "class LinearRegressionPyTorch(torch.nn.Module):\n",
        "    def __init__(self):\n",
        "        super(LinearRegressionPyTorch, self).__init__()\n",
        "        self.linear = torch.nn.Linear(1, 1)  \n",
        "\n",
        "    def forward(self, x):\n",
        "        out = self.linear(x)\n",
        "        return out"
      ],
      "execution_count": 8,
      "outputs": []
    },
    {
      "cell_type": "markdown",
      "metadata": {
        "id": "OTM11lUu4wZ9"
      },
      "source": [
        "# TensorFlow Training"
      ]
    },
    {
      "cell_type": "code",
      "metadata": {
        "id": "pO7qsA2QDf9_"
      },
      "source": [
        "epochs = 500\n",
        "learning_rate = 0.001"
      ],
      "execution_count": 9,
      "outputs": []
    },
    {
      "cell_type": "code",
      "metadata": {
        "id": "F1075c3v4wZ9",
        "outputId": "c730a851-38bc-4648-b95b-ad90ff544e28",
        "colab": {
          "base_uri": "https://localhost:8080/",
          "height": 425
        }
      },
      "source": [
        "def squared_error(y_pred, y_true):\n",
        "    return tf.reduce_mean(tf.square(y_pred - y_true))\n",
        "\n",
        "tf_model = LinearRegressionKeras()\n",
        "\n",
        "for epoch in tf.range(1,epochs):\n",
        "    with tf.GradientTape() as tape:\n",
        "        predictions = tf_model(x)\n",
        "        loss = squared_error(predictions, y)\n",
        "    dloss_dw,dloss_db = tape.gradient(loss, [tf_model.params[\"w\"], tf_model.params[\"b\"]])\n",
        "    # adjusting \n",
        "    tf_model.params[\"w\"].assign(tf_model.params[\"w\"] - learning_rate*dloss_dw)\n",
        "    tf_model.params[\"b\"].assign(tf_model.params[\"b\"] - learning_rate*dloss_db)\n",
        "    if epoch % 20 == 0:\n",
        "        print(f\"Step {epoch}, Loss {loss.numpy()}\") # we print the loss only each 20 epochs"
      ],
      "execution_count": 10,
      "outputs": [
        {
          "output_type": "stream",
          "text": [
            "Step 20, Loss 0.12222025543451309\n",
            "Step 40, Loss 0.09338047355413437\n",
            "Step 60, Loss 0.086237333714962\n",
            "Step 80, Loss 0.08090321719646454\n",
            "Step 100, Loss 0.07606013119220734\n",
            "Step 120, Loss 0.07159411162137985\n",
            "Step 140, Loss 0.06747126579284668\n",
            "Step 160, Loss 0.06366492807865143\n",
            "Step 180, Loss 0.06015077233314514\n",
            "Step 200, Loss 0.05690639093518257\n",
            "Step 220, Loss 0.05391105264425278\n",
            "Step 240, Loss 0.051145657896995544\n",
            "Step 260, Loss 0.048592545092105865\n",
            "Step 280, Loss 0.04623541980981827\n",
            "Step 300, Loss 0.044059231877326965\n",
            "Step 320, Loss 0.04205010458827019\n",
            "Step 340, Loss 0.04019520804286003\n",
            "Step 360, Loss 0.03848268836736679\n",
            "Step 380, Loss 0.03690164163708687\n",
            "Step 400, Loss 0.03544195741415024\n",
            "Step 420, Loss 0.03409433737397194\n",
            "Step 440, Loss 0.03285015746951103\n",
            "Step 460, Loss 0.03170148655772209\n",
            "Step 480, Loss 0.030640985816717148\n"
          ],
          "name": "stdout"
        }
      ]
    },
    {
      "cell_type": "markdown",
      "metadata": {
        "id": "Vz7e7zLk4wZ-"
      },
      "source": [
        "# PyTorch Training"
      ]
    },
    {
      "cell_type": "code",
      "metadata": {
        "id": "rrefoEU24wZ_"
      },
      "source": [
        "inputs = torch.autograd.Variable(torch.from_numpy(x.numpy().reshape(-1, 1)))\n",
        "labels = torch.autograd.Variable(torch.from_numpy(y.numpy().reshape(-1, 1)))\n"
      ],
      "execution_count": 11,
      "outputs": []
    },
    {
      "cell_type": "code",
      "metadata": {
        "id": "i6mHK8sD4waA",
        "outputId": "de3a9763-ed78-4858-8d98-31bfe8d7dcb2",
        "colab": {
          "base_uri": "https://localhost:8080/",
          "height": 442
        }
      },
      "source": [
        "def squared_error(y_pred, y_true):\n",
        "    diff = y_pred - y_true\n",
        "    return torch.sum(diff * diff) / diff.numel()\n",
        "\n",
        "\n",
        "torch_model = LinearRegressionPyTorch()\n",
        "\n",
        "criterion = torch.nn.MSELoss(reduction='mean')\n",
        "optimizer = torch.optim.SGD(torch_model.parameters(), lr=learning_rate)\n",
        "\n",
        "for epoch in range(epochs):\n",
        "    epoch_loss = 0\n",
        "    y_pred = torch_model(inputs)\n",
        "\n",
        "    loss = criterion(y_pred, labels)\n",
        "\n",
        "    epoch_loss = loss.data\n",
        "\n",
        "    optimizer.zero_grad()\n",
        "    loss.backward()\n",
        "    optimizer.step()\n",
        "    if epoch % 20 == 0:\n",
        "      print(\"Epoch {} : Loss {}\".format(epoch, epoch_loss))\n"
      ],
      "execution_count": 12,
      "outputs": [
        {
          "output_type": "stream",
          "text": [
            "Epoch 0 : Loss 8.760880470275879\n",
            "Epoch 20 : Loss 0.6688283681869507\n",
            "Epoch 40 : Loss 0.1386682391166687\n",
            "Epoch 60 : Loss 0.09832435846328735\n",
            "Epoch 80 : Loss 0.0901389867067337\n",
            "Epoch 100 : Loss 0.0844624936580658\n",
            "Epoch 120 : Loss 0.07934340089559555\n",
            "Epoch 140 : Loss 0.0746251568198204\n",
            "Epoch 160 : Loss 0.0702696144580841\n",
            "Epoch 180 : Loss 0.06624846160411835\n",
            "Epoch 200 : Loss 0.06253599375486374\n",
            "Epoch 220 : Loss 0.059108514338731766\n",
            "Epoch 240 : Loss 0.05594412982463837\n",
            "Epoch 260 : Loss 0.05302267149090767\n",
            "Epoch 280 : Loss 0.05032546445727348\n",
            "Epoch 300 : Loss 0.04783531650900841\n",
            "Epoch 320 : Loss 0.04553631320595741\n",
            "Epoch 340 : Loss 0.04341379180550575\n",
            "Epoch 360 : Loss 0.041454214602708817\n",
            "Epoch 380 : Loss 0.03964505344629288\n",
            "Epoch 400 : Loss 0.03797478973865509\n",
            "Epoch 420 : Loss 0.03643272444605827\n",
            "Epoch 440 : Loss 0.03500903397798538\n",
            "Epoch 460 : Loss 0.03369462862610817\n",
            "Epoch 480 : Loss 0.03248114511370659\n"
          ],
          "name": "stdout"
        }
      ]
    },
    {
      "cell_type": "markdown",
      "metadata": {
        "id": "7rlcy9IF4waC"
      },
      "source": [
        "# Data Visualization"
      ]
    },
    {
      "cell_type": "code",
      "metadata": {
        "id": "LqYVFGxi5yLM",
        "outputId": "0b68d182-ceb7-4b58-93a5-9dac83b1201a",
        "colab": {
          "base_uri": "https://localhost:8080/",
          "height": 34
        }
      },
      "source": [
        "[w, b] = torch_model.parameters()\n",
        "\n",
        "tf_model.params[\"w\"].numpy(), tf_model.params[\"b\"].numpy(), w.tolist()[0][0], b.tolist()[0]"
      ],
      "execution_count": 13,
      "outputs": [
        {
          "output_type": "execute_result",
          "data": {
            "text/plain": [
              "(0.10109633, 0.18473247, 0.10102798789739609, 0.17715854942798615)"
            ]
          },
          "metadata": {
            "tags": []
          },
          "execution_count": 13
        }
      ]
    },
    {
      "cell_type": "code",
      "metadata": {
        "id": "HFUgTqN14waD",
        "outputId": "cd750861-c4e8-4fda-84f2-f23219f6c008",
        "colab": {
          "base_uri": "https://localhost:8080/",
          "height": 334
        }
      },
      "source": [
        "with torch.no_grad():\n",
        "  x_train, y_train = generate_data()\n",
        "  plt.figure(figsize = (12,5))\n",
        "  ax = plt.subplot(111)\n",
        "  ax.scatter(x_train,y_train, c = \"b\", label=\"samples\")\n",
        "  ax.plot(x, tf_model.params[\"w\"] * x + tf_model.params[\"b\"], \"r\", linewidth = 5.0, label = \"tensorflow\")\n",
        "  ax.plot(x, w * inputs + b, \"c\", linewidth = 5.0, label = \"pytorch\")\n",
        "  ax.legend()\n",
        "  plt.xlabel(\"x1\")\n",
        "  plt.ylabel(\"y\",rotation = 0)"
      ],
      "execution_count": 14,
      "outputs": [
        {
          "output_type": "display_data",
          "data": {
            "image/png": "[encoded data removed]",
            "text/plain": [
              "<Figure size 864x360 with 1 Axes>"
            ]
          },
          "metadata": {
            "tags": [],
            "needs_background": "light"
          }
        }
      ]
    },
    {
      "cell_type": "code",
      "metadata": {
        "id": "XN9IAZ4j7Cf6"
      },
      "source": [
        ""
      ],
      "execution_count": 14,
      "outputs": []
    }
  ]
}