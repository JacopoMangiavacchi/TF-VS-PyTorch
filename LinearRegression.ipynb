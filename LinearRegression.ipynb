{
  "nbformat": 4,
  "nbformat_minor": 0,
  "metadata": {
    "kernelspec": {
      "display_name": "Python 3",
      "language": "python",
      "name": "python3"
    },
    "language_info": {
      "codemirror_mode": {
        "name": "ipython",
        "version": 3
      },
      "file_extension": ".py",
      "mimetype": "text/x-python",
      "name": "python",
      "nbconvert_exporter": "python",
      "pygments_lexer": "ipython3",
      "version": "3.7.6"
    },
    "colab": {
      "name": "LinearRegression.ipynb",
      "provenance": [],
      "include_colab_link": true
    }
  },
  "cells": [
    {
      "cell_type": "markdown",
      "metadata": {
        "id": "view-in-github",
        "colab_type": "text"
      },
      "source": [
        "<a href=\"https://colab.research.google.com/github/JacopoMangiavacchi/TF-VS-PyTorch/blob/main/LinearRegression.ipynb\" target=\"_parent\"><img src=\"https://colab.research.google.com/assets/colab-badge.svg\" alt=\"Open In Colab\"/></a>"
      ]
    },
    {
      "cell_type": "markdown",
      "metadata": {
        "id": "emfCSMQG4wZg"
      },
      "source": [
        "# Import PyTorch and TensorFlow"
      ]
    },
    {
      "cell_type": "code",
      "metadata": {
        "id": "0c906lqY4wZh"
      },
      "source": [
        "%tensorflow_version 2.x"
      ],
      "execution_count": 1,
      "outputs": []
    },
    {
      "cell_type": "code",
      "metadata": {
        "id": "-GJ3rN3R4wZn",
        "outputId": "98b4509e-af8b-4f7e-d329-9dc2eefe7da4",
        "colab": {
          "base_uri": "https://localhost:8080/"
        }
      },
      "source": [
        "import tensorflow as tf\n",
        "print(f\"tensorflow version: {tf.__version__}\")"
      ],
      "execution_count": 2,
      "outputs": [
        {
          "output_type": "stream",
          "text": [
            "tensorflow version: 2.3.0\n"
          ],
          "name": "stdout"
        }
      ]
    },
    {
      "cell_type": "code",
      "metadata": {
        "id": "A85pp2Tn4wZs",
        "outputId": "4e5dbd96-f79f-4db7-880e-82a5d2a191ca",
        "colab": {
          "base_uri": "https://localhost:8080/"
        }
      },
      "source": [
        "import torch\n",
        "print(f\"pytorch version: {torch.__version__}\")"
      ],
      "execution_count": 3,
      "outputs": [
        {
          "output_type": "stream",
          "text": [
            "pytorch version: 1.6.0+cu101\n"
          ],
          "name": "stdout"
        }
      ]
    },
    {
      "cell_type": "markdown",
      "metadata": {
        "id": "kH0qo4mQ4wZv"
      },
      "source": [
        "# Generating the datasets"
      ]
    },
    {
      "cell_type": "code",
      "metadata": {
        "id": "4ifmVYyy4wZv"
      },
      "source": [
        "import numpy as np\n",
        "import matplotlib.pyplot as plt"
      ],
      "execution_count": 4,
      "outputs": []
    },
    {
      "cell_type": "code",
      "metadata": {
        "id": "CMPBuJxd4wZy"
      },
      "source": [
        "def generate_data(m=0.1, b=0.3, n=200):\n",
        "    x = np.random.uniform(-10, 10, n)\n",
        "    noise = np.random.normal(0, 0.15, n)\n",
        "    y = (m * x + b ) + noise\n",
        "    return x.astype(np.float32), y.astype(np.float32)\n",
        "\n",
        "    # x = tf.random.uniform(shape=(n,),minval=-10,maxval=10) \n",
        "    # noise = tf.random.normal(shape=(len(x),), stddev=0.15)\n",
        "    # y = (m * x + b ) + noise\n",
        "    # return x.numpy(), y.numpy()"
      ],
      "execution_count": 5,
      "outputs": []
    },
    {
      "cell_type": "markdown",
      "metadata": {
        "id": "QgGeUkn54wZ0"
      },
      "source": [
        "## Data Visualization"
      ]
    },
    {
      "cell_type": "code",
      "metadata": {
        "id": "ffKgDR8w4wZ1",
        "outputId": "8c31f81c-2d38-4496-e8a7-17cc5eded190",
        "colab": {
          "base_uri": "https://localhost:8080/",
          "height": 404
        }
      },
      "source": [
        "m = tf.Variable(0.)\n",
        "b = tf.Variable(0.)\n",
        "x, y = generate_data()\n",
        "\n",
        "print(type(x), x.shape, x.dtype)\n",
        "print(type(y), y.shape, y.dtype)\n",
        "\n",
        "plt.figure(figsize = (12,5))\n",
        "ax = plt.subplot(111)\n",
        "ax.scatter(x,y, c = \"b\", label=\"samples\")\n",
        "ax.plot(x,m*x+b,\"-r\",linewidth = 5.0,label = \"model\")\n",
        "plt.xlabel(\"x1\")\n",
        "plt.ylabel(\"y\",rotation = 0)"
      ],
      "execution_count": 6,
      "outputs": [
        {
          "output_type": "stream",
          "text": [
            "<class 'numpy.ndarray'> (200,) float32\n",
            "<class 'numpy.ndarray'> (200,) float32\n"
          ],
          "name": "stdout"
        },
        {
          "output_type": "execute_result",
          "data": {
            "text/plain": [
              "Text(0, 0.5, 'y')"
            ]
          },
          "metadata": {
            "tags": []
          },
          "execution_count": 6
        },
        {
          "output_type": "display_data",
          "data": {
            "image/png": "[encoded data removed]",
            "text/plain": [
              "<Figure size 864x360 with 1 Axes>"
            ]
          },
          "metadata": {
            "tags": [],
            "needs_background": "light"
          }
        }
      ]
    },
    {
      "cell_type": "markdown",
      "metadata": {
        "id": "VXw8aEdV4wZ4"
      },
      "source": [
        "# TensorFlow Model"
      ]
    },
    {
      "cell_type": "code",
      "metadata": {
        "id": "urXw4sFS4wZ4"
      },
      "source": [
        "class LinearRegressionKeras(tf.keras.Model):\n",
        "    def __init__(self):\n",
        "        super().__init__()\n",
        "        self.w = tf.Variable(tf.random.uniform(shape=[1], minval=-0.1, maxval=0.1))\n",
        "        self.b = tf.Variable(tf.random.uniform(shape=[1], minval=-0.1, maxval=0.1))\n",
        "\n",
        "    def __call__(self,x): \n",
        "        y_pred = x * self.w + self.b\n",
        "        return y_pred\n",
        "\n",
        "# class LinearRegressionKeras(tf.keras.Model):\n",
        "#     def __init__(self):\n",
        "#         super().__init__()\n",
        "#         self.params = {\n",
        "#             \"w\" : tf.Variable(tf.random.uniform(shape=[1], minval=-0.1, maxval=0.1)),\n",
        "#             \"b\" : tf.Variable(tf.random.uniform(shape=[1], minval=-0.1, maxval=0.1))\n",
        "#         }        \n",
        "\n",
        "#     def __call__(self,x): \n",
        "#         y_pred = x * self.params[\"w\"] + self.params[\"b\"]\n",
        "#         return y_pred"
      ],
      "execution_count": 7,
      "outputs": []
    },
    {
      "cell_type": "markdown",
      "metadata": {
        "id": "zjoCPvJE4wZ6"
      },
      "source": [
        "# PyTorch Model"
      ]
    },
    {
      "cell_type": "code",
      "metadata": {
        "id": "GOXp9c_n4wZ7"
      },
      "source": [
        "class LinearRegressionPyTorch(torch.nn.Module): \n",
        "    def __init__(self): \n",
        "        super().__init__() \n",
        "        self.w = torch.nn.Parameter(torch.Tensor(1, 1))\n",
        "        self.b = torch.nn.Parameter(torch.Tensor(1))\n",
        "        self.w.data.uniform_(-0.1, 0.1)\n",
        "        self.b.data.uniform_(-0.1, 0.1)\n",
        "  \n",
        "    def forward(self, x):  \n",
        "        return x @ self.w + self.b\n",
        "    \n",
        "    \n",
        "# class LinearRegressionPyTorch(torch.nn.Module):\n",
        "#     def __init__(self):\n",
        "#         super(LinearRegressionPyTorch, self).__init__()\n",
        "#         self.linear = torch.nn.Linear(1, 1)  \n",
        "\n",
        "#     def forward(self, x):\n",
        "#         out = self.linear(x)\n",
        "#         return out"
      ],
      "execution_count": 8,
      "outputs": []
    },
    {
      "cell_type": "markdown",
      "metadata": {
        "id": "OTM11lUu4wZ9"
      },
      "source": [
        "# TensorFlow Training"
      ]
    },
    {
      "cell_type": "code",
      "metadata": {
        "id": "pO7qsA2QDf9_"
      },
      "source": [
        "epochs = 500\n",
        "learning_rate = 0.001"
      ],
      "execution_count": 9,
      "outputs": []
    },
    {
      "cell_type": "code",
      "metadata": {
        "id": "F1075c3v4wZ9",
        "outputId": "b33eb562-fc71-4e45-d8b6-054d3dad6eaa",
        "colab": {
          "base_uri": "https://localhost:8080/"
        }
      },
      "source": [
        "def squared_error(y_pred, y_true):\n",
        "    return tf.reduce_mean(tf.square(y_pred - y_true))\n",
        "\n",
        "tf_model = LinearRegressionKeras()\n",
        "[w, b] = tf_model.trainable_variables\n",
        "\n",
        "for epoch in range(epochs):\n",
        "    with tf.GradientTape() as tape:\n",
        "        predictions = tf_model(x)\n",
        "        loss = squared_error(predictions, y)\n",
        "        \n",
        "    w_grad, b_grad = tape.gradient(loss, tf_model.trainable_variables)\n",
        "\n",
        "    w.assign(w - w_grad * learning_rate)\n",
        "    b.assign(b - b_grad * learning_rate)\n",
        "\n",
        "    if epoch % 20 == 0:\n",
        "        print(f\"Step {epoch}, Loss {loss.numpy()}\") # we print the loss only each 20 epochs"
      ],
      "execution_count": 10,
      "outputs": [
        {
          "output_type": "stream",
          "text": [
            "Step 0, Loss 0.7022075057029724\n",
            "Step 20, Loss 0.16949069499969482\n",
            "Step 40, Loss 0.12842822074890137\n",
            "Step 60, Loss 0.11838971823453903\n",
            "Step 80, Loss 0.11083658039569855\n",
            "Step 100, Loss 0.103960782289505\n",
            "Step 120, Loss 0.09761091321706772\n",
            "Step 140, Loss 0.09174107760190964\n",
            "Step 160, Loss 0.0863146111369133\n",
            "Step 180, Loss 0.08129801601171494\n",
            "Step 200, Loss 0.07666032016277313\n",
            "Step 220, Loss 0.0723729282617569\n",
            "Step 240, Loss 0.06840936094522476\n",
            "Step 260, Loss 0.06474515795707703\n",
            "Step 280, Loss 0.06135772168636322\n",
            "Step 300, Loss 0.05822615325450897\n",
            "Step 320, Loss 0.055331092327833176\n",
            "Step 340, Loss 0.05265471339225769\n",
            "Step 360, Loss 0.050180479884147644\n",
            "Step 380, Loss 0.04789312183856964\n",
            "Step 400, Loss 0.0457785464823246\n",
            "Step 420, Loss 0.043823666870594025\n",
            "Step 440, Loss 0.04201645404100418\n",
            "Step 460, Loss 0.04034573584794998\n",
            "Step 480, Loss 0.03880121558904648\n"
          ],
          "name": "stdout"
        }
      ]
    },
    {
      "cell_type": "markdown",
      "metadata": {
        "id": "Vz7e7zLk4wZ-"
      },
      "source": [
        "# PyTorch Training"
      ]
    },
    {
      "cell_type": "code",
      "metadata": {
        "id": "rrefoEU24wZ_"
      },
      "source": [
        "inputs = torch.autograd.Variable(torch.from_numpy(x.reshape(-1, 1)))\n",
        "labels = torch.autograd.Variable(torch.from_numpy(y.reshape(-1, 1)))\n"
      ],
      "execution_count": 11,
      "outputs": []
    },
    {
      "cell_type": "code",
      "metadata": {
        "id": "i6mHK8sD4waA",
        "outputId": "9a38e4cb-7bed-44c5-b59a-a055b10da5e7",
        "colab": {
          "base_uri": "https://localhost:8080/"
        }
      },
      "source": [
        "def squared_error(y_pred, y_true):\n",
        "    diff = y_pred - y_true\n",
        "    return torch.sum(diff * diff) / diff.numel()\n",
        "\n",
        "\n",
        "torch_model = LinearRegressionPyTorch()\n",
        "[w, b] = torch_model.parameters()\n",
        "\n",
        "# criterion = torch.nn.MSELoss(reduction='mean')\n",
        "# optimizer = torch.optim.SGD(torch_model.parameters(), lr=learning_rate)\n",
        "\n",
        "for epoch in range(epochs):\n",
        "    epoch_loss = 0\n",
        "    y_pred = torch_model(inputs)\n",
        "\n",
        "    loss = squared_error(y_pred, labels)\n",
        "\n",
        "    epoch_loss = loss.data\n",
        "\n",
        "    # optimizer.zero_grad()\n",
        "    loss.backward()\n",
        "    # optimizer.step()\n",
        "\n",
        "    with torch.no_grad():\n",
        "        w -= w.grad * learning_rate\n",
        "        b -= b.grad * learning_rate\n",
        "        w.grad.zero_()\n",
        "        b.grad.zero_()\n",
        "\n",
        "    if epoch % 20 == 0:\n",
        "      print(\"Epoch {} : Loss {}\".format(epoch, epoch_loss))\n"
      ],
      "execution_count": 12,
      "outputs": [
        {
          "output_type": "stream",
          "text": [
            "Epoch 0 : Loss 0.9666774272918701\n",
            "Epoch 20 : Loss 0.1753772795200348\n",
            "Epoch 40 : Loss 0.11911105364561081\n",
            "Epoch 60 : Loss 0.10886337608098984\n",
            "Epoch 80 : Loss 0.10197329521179199\n",
            "Epoch 100 : Loss 0.09576345235109329\n",
            "Epoch 120 : Loss 0.09003251791000366\n",
            "Epoch 140 : Loss 0.08473505079746246\n",
            "Epoch 160 : Loss 0.07983776926994324\n",
            "Epoch 180 : Loss 0.07531037926673889\n",
            "Epoch 200 : Loss 0.07112494856119156\n",
            "Epoch 220 : Loss 0.06725563853979111\n",
            "Epoch 240 : Loss 0.06367859244346619\n",
            "Epoch 260 : Loss 0.060371704399585724\n",
            "Epoch 280 : Loss 0.057314611971378326\n",
            "Epoch 300 : Loss 0.0544884018599987\n",
            "Epoch 320 : Loss 0.05187566578388214\n",
            "Epoch 340 : Loss 0.0494602769613266\n",
            "Epoch 360 : Loss 0.04722733050584793\n",
            "Epoch 380 : Loss 0.04516303911805153\n",
            "Epoch 400 : Loss 0.04325466230511665\n",
            "Epoch 420 : Loss 0.04149043187499046\n",
            "Epoch 440 : Loss 0.03985943645238876\n",
            "Epoch 460 : Loss 0.0383516401052475\n",
            "Epoch 480 : Loss 0.03695773705840111\n"
          ],
          "name": "stdout"
        }
      ]
    },
    {
      "cell_type": "markdown",
      "metadata": {
        "id": "7rlcy9IF4waC"
      },
      "source": [
        "# Data Visualization"
      ]
    },
    {
      "cell_type": "code",
      "metadata": {
        "id": "HFUgTqN14waD",
        "outputId": "2b9874c5-0c81-4437-9fc8-511b0dba4370",
        "colab": {
          "base_uri": "https://localhost:8080/",
          "height": 354
        }
      },
      "source": [
        "[w_tf, b_tf] = tf_model.trainable_variables\n",
        "[w_torch, b_torch] = torch_model.parameters()\n",
        "\n",
        "with torch.no_grad():\n",
        "  plt.figure(figsize = (12,5))\n",
        "  ax = plt.subplot(111)\n",
        "  ax.scatter(x, y, c = \"b\", label=\"samples\")\n",
        "  ax.plot(x, w_tf * x + b_tf, \"r\", linewidth = 5.0, label = \"tensorflow\")\n",
        "  ax.plot(x, w_torch * inputs + b_torch, \"c\", linewidth = 5.0, label = \"pytorch\")\n",
        "  ax.legend()\n",
        "  plt.xlabel(\"x1\")\n",
        "  plt.ylabel(\"y\",rotation = 0)"
      ],
      "execution_count": 13,
      "outputs": [
        {
          "output_type": "display_data",
          "data": {
            "image/png": "[encoded data removed]",
            "text/plain": [
              "<Figure size 864x360 with 1 Axes>"
            ]
          },
          "metadata": {
            "tags": [],
            "needs_background": "light"
          }
        }
      ]
    },
    {
      "cell_type": "code",
      "metadata": {
        "id": "XN9IAZ4j7Cf6"
      },
      "source": [
        ""
      ],
      "execution_count": 13,
      "outputs": []
    }
  ]
}