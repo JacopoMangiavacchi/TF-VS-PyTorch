{
  "nbformat": 4,
  "nbformat_minor": 0,
  "metadata": {
    "kernelspec": {
      "display_name": "Python 3",
      "language": "python",
      "name": "python3"
    },
    "language_info": {
      "codemirror_mode": {
        "name": "ipython",
        "version": 3
      },
      "file_extension": ".py",
      "mimetype": "text/x-python",
      "name": "python",
      "nbconvert_exporter": "python",
      "pygments_lexer": "ipython3",
      "version": "3.7.6"
    },
    "colab": {
      "name": "LinearRegression.ipynb",
      "provenance": [],
      "include_colab_link": true
    }
  },
  "cells": [
    {
      "cell_type": "markdown",
      "metadata": {
        "id": "view-in-github",
        "colab_type": "text"
      },
      "source": [
        "<a href=\"https://colab.research.google.com/github/JacopoMangiavacchi/TF-PyTorch-LinearRegression/blob/main/LinearRegression.ipynb\" target=\"_parent\"><img src=\"https://colab.research.google.com/assets/colab-badge.svg\" alt=\"Open In Colab\"/></a>"
      ]
    },
    {
      "cell_type": "markdown",
      "metadata": {
        "id": "emfCSMQG4wZg"
      },
      "source": [
        "# Import PyTorch and TensorFlow"
      ]
    },
    {
      "cell_type": "code",
      "metadata": {
        "id": "0c906lqY4wZh"
      },
      "source": [
        "%tensorflow_version 2.x"
      ],
      "execution_count": 1,
      "outputs": []
    },
    {
      "cell_type": "code",
      "metadata": {
        "id": "-GJ3rN3R4wZn",
        "outputId": "6b0e3913-b92b-4208-8184-ef8e0a5e96bd",
        "colab": {
          "base_uri": "https://localhost:8080/",
          "height": 34
        }
      },
      "source": [
        "import tensorflow as tf\n",
        "print(f\"tensorflow version: {tf.__version__}\")"
      ],
      "execution_count": 2,
      "outputs": [
        {
          "output_type": "stream",
          "text": [
            "tensorflow version: 2.3.0\n"
          ],
          "name": "stdout"
        }
      ]
    },
    {
      "cell_type": "code",
      "metadata": {
        "id": "A85pp2Tn4wZs",
        "outputId": "dd38cfd1-8279-49dc-bf6f-7c0447a4098a",
        "colab": {
          "base_uri": "https://localhost:8080/",
          "height": 34
        }
      },
      "source": [
        "import torch\n",
        "print(f\"pytorch version: {torch.__version__}\")"
      ],
      "execution_count": 3,
      "outputs": [
        {
          "output_type": "stream",
          "text": [
            "pytorch version: 1.6.0+cu101\n"
          ],
          "name": "stdout"
        }
      ]
    },
    {
      "cell_type": "markdown",
      "metadata": {
        "id": "kH0qo4mQ4wZv"
      },
      "source": [
        "# Generating the datasets"
      ]
    },
    {
      "cell_type": "code",
      "metadata": {
        "id": "4ifmVYyy4wZv"
      },
      "source": [
        "import numpy as np\n",
        "import matplotlib.pyplot as plt"
      ],
      "execution_count": 4,
      "outputs": []
    },
    {
      "cell_type": "code",
      "metadata": {
        "id": "CMPBuJxd4wZy"
      },
      "source": [
        "def generate_data(m=0.1, b=0.3, n=200):\n",
        "    x = tf.random.uniform(shape=(n,),minval=-10,maxval=10) \n",
        "    noise = tf.random.normal(shape=(len(x),), stddev=0.15)\n",
        "    y = (m * x + b ) + noise\n",
        "    return x.numpy(), y.numpy()"
      ],
      "execution_count": 5,
      "outputs": []
    },
    {
      "cell_type": "markdown",
      "metadata": {
        "id": "QgGeUkn54wZ0"
      },
      "source": [
        "## Data Visualization"
      ]
    },
    {
      "cell_type": "code",
      "metadata": {
        "id": "ffKgDR8w4wZ1",
        "outputId": "87f8a89e-3988-4ac1-86bf-9fe016fd7cd9",
        "colab": {
          "base_uri": "https://localhost:8080/",
          "height": 351
        }
      },
      "source": [
        "m = tf.Variable(0.)\n",
        "b = tf.Variable(0.)\n",
        "x, y = generate_data()\n",
        "plt.figure(figsize = (12,5))\n",
        "ax = plt.subplot(111)\n",
        "ax.scatter(x,y, c = \"b\", label=\"samples\")\n",
        "ax.plot(x,m*x+b,\"-r\",linewidth = 5.0,label = \"model\")\n",
        "plt.xlabel(\"x1\")\n",
        "plt.ylabel(\"y\",rotation = 0)"
      ],
      "execution_count": 6,
      "outputs": [
        {
          "output_type": "execute_result",
          "data": {
            "text/plain": [
              "Text(0, 0.5, 'y')"
            ]
          },
          "metadata": {
            "tags": []
          },
          "execution_count": 6
        },
        {
          "output_type": "display_data",
          "data": {
            "image/png": "[encoded data removed]",
            "text/plain": [
              "<Figure size 864x360 with 1 Axes>"
            ]
          },
          "metadata": {
            "tags": [],
            "needs_background": "light"
          }
        }
      ]
    },
    {
      "cell_type": "markdown",
      "metadata": {
        "id": "VXw8aEdV4wZ4"
      },
      "source": [
        "# TensorFlow Model"
      ]
    },
    {
      "cell_type": "code",
      "metadata": {
        "id": "urXw4sFS4wZ4"
      },
      "source": [
        "class LinearRegressionKeras:\n",
        "    def __init__(self):\n",
        "        self.params = {\n",
        "            \"w\" : tf.Variable(0.),\n",
        "            \"b\" : tf.Variable(0.)\n",
        "        }        \n",
        "\n",
        "    def __call__(self,x): \n",
        "        y_pred = self.params[\"w\"] * x + self.params[\"b\"]\n",
        "        return y_pred"
      ],
      "execution_count": 7,
      "outputs": []
    },
    {
      "cell_type": "markdown",
      "metadata": {
        "id": "zjoCPvJE4wZ6"
      },
      "source": [
        "# PyTorch Model"
      ]
    },
    {
      "cell_type": "code",
      "metadata": {
        "id": "GOXp9c_n4wZ7"
      },
      "source": [
        "# class LinearRegressionPyTorch(torch.nn.Module): \n",
        "#     def __init__(self): \n",
        "#         super(LinearRegressionPyTorch, self).__init__() \n",
        "#         self.w = torch.tensor([0.0])\n",
        "#         self.b = torch.tensor([0.0])\n",
        "  \n",
        "#     def forward(self, x):  \n",
        "#         return x @ self.w + self.b\n",
        "    \n",
        "    \n",
        "class LinearRegressionPyTorch(torch.nn.Module):\n",
        "    def __init__(self):\n",
        "        super(LinearRegressionPyTorch, self).__init__()\n",
        "        self.linear = torch.nn.Linear(1, 1)  \n",
        "\n",
        "    def forward(self, x):\n",
        "        out = self.linear(x)\n",
        "        return out"
      ],
      "execution_count": 8,
      "outputs": []
    },
    {
      "cell_type": "markdown",
      "metadata": {
        "id": "OTM11lUu4wZ9"
      },
      "source": [
        "# TensorFlow Training"
      ]
    },
    {
      "cell_type": "code",
      "metadata": {
        "id": "pO7qsA2QDf9_"
      },
      "source": [
        "epochs = 500\n",
        "learning_rate = 0.001"
      ],
      "execution_count": 9,
      "outputs": []
    },
    {
      "cell_type": "code",
      "metadata": {
        "id": "F1075c3v4wZ9",
        "outputId": "1565334d-84ac-45e2-9c61-dafc824c8336",
        "colab": {
          "base_uri": "https://localhost:8080/",
          "height": 425
        }
      },
      "source": [
        "def squared_error(y_pred, y_true):\n",
        "    return tf.reduce_mean(tf.square(y_pred - y_true))\n",
        "\n",
        "tf_model = LinearRegressionKeras()\n",
        "\n",
        "for epoch in tf.range(1,epochs):\n",
        "    with tf.GradientTape() as tape:\n",
        "        predictions = tf_model(x)\n",
        "        loss = squared_error(predictions, y)\n",
        "    dloss_dw,dloss_db = tape.gradient(loss, [tf_model.params[\"w\"], tf_model.params[\"b\"]])\n",
        "    # adjusting \n",
        "    tf_model.params[\"w\"].assign(tf_model.params[\"w\"] - learning_rate*dloss_dw)\n",
        "    tf_model.params[\"b\"].assign(tf_model.params[\"b\"] - learning_rate*dloss_db)\n",
        "    if epoch % 20 == 0:\n",
        "        print(f\"Step {epoch}, Loss {loss.numpy()}\") # we print the loss only each 20 epochs"
      ],
      "execution_count": 10,
      "outputs": [
        {
          "output_type": "stream",
          "text": [
            "Step 20, Loss 0.136420339345932\n",
            "Step 40, Loss 0.10946626961231232\n",
            "Step 60, Loss 0.10187827050685883\n",
            "Step 80, Loss 0.09588779509067535\n",
            "Step 100, Loss 0.09041578322649002\n",
            "Step 120, Loss 0.08536636084318161\n",
            "Step 140, Loss 0.08070386946201324\n",
            "Step 160, Loss 0.07639841735363007\n",
            "Step 180, Loss 0.07242270559072495\n",
            "Step 200, Loss 0.06875147670507431\n",
            "Step 220, Loss 0.06536141037940979\n",
            "Step 240, Loss 0.062230948358774185\n",
            "Step 260, Loss 0.05934023857116699\n",
            "Step 280, Loss 0.056670915335416794\n",
            "Step 300, Loss 0.0542060025036335\n",
            "Step 320, Loss 0.05192987620830536\n",
            "Step 340, Loss 0.04982806369662285\n",
            "Step 360, Loss 0.047887202352285385\n",
            "Step 380, Loss 0.04609499126672745\n",
            "Step 400, Loss 0.044440027326345444\n",
            "Step 420, Loss 0.04291181638836861\n",
            "Step 440, Loss 0.041500624269247055\n",
            "Step 460, Loss 0.040197521448135376\n",
            "Step 480, Loss 0.038994207978248596\n"
          ],
          "name": "stdout"
        }
      ]
    },
    {
      "cell_type": "markdown",
      "metadata": {
        "id": "Vz7e7zLk4wZ-"
      },
      "source": [
        "# PyTorch Training"
      ]
    },
    {
      "cell_type": "code",
      "metadata": {
        "id": "rrefoEU24wZ_"
      },
      "source": [
        "inputs = torch.autograd.Variable(torch.from_numpy(x.reshape(-1, 1)))\n",
        "labels = torch.autograd.Variable(torch.from_numpy(y.reshape(-1, 1)))\n"
      ],
      "execution_count": 11,
      "outputs": []
    },
    {
      "cell_type": "code",
      "metadata": {
        "id": "i6mHK8sD4waA",
        "outputId": "9345d6bc-3438-4fa4-a0a0-9240b890f9a7",
        "colab": {
          "base_uri": "https://localhost:8080/",
          "height": 442
        }
      },
      "source": [
        "def squared_error(y_pred, y_true):\n",
        "    diff = y_pred - y_true\n",
        "    return torch.sum(diff * diff) / diff.numel()\n",
        "\n",
        "\n",
        "torch_model = LinearRegressionPyTorch()\n",
        "\n",
        "criterion = torch.nn.MSELoss(reduction='mean')\n",
        "optimizer = torch.optim.SGD(torch_model.parameters(), lr=learning_rate)\n",
        "\n",
        "for epoch in range(epochs):\n",
        "    epoch_loss = 0\n",
        "    y_pred = torch_model(inputs)\n",
        "\n",
        "    loss = criterion(y_pred, labels)\n",
        "\n",
        "    epoch_loss = loss.data\n",
        "\n",
        "    optimizer.zero_grad()\n",
        "    loss.backward()\n",
        "    optimizer.step()\n",
        "    if epoch % 20 == 0:\n",
        "      print(\"Epoch {} : Loss {}\".format(epoch, epoch_loss))\n"
      ],
      "execution_count": 12,
      "outputs": [
        {
          "output_type": "stream",
          "text": [
            "Epoch 0 : Loss 15.356593132019043\n",
            "Epoch 20 : Loss 0.9260405898094177\n",
            "Epoch 40 : Loss 0.07824297994375229\n",
            "Epoch 60 : Loss 0.028377696871757507\n",
            "Epoch 80 : Loss 0.0253920778632164\n",
            "Epoch 100 : Loss 0.025164742022752762\n",
            "Epoch 120 : Loss 0.02510341815650463\n",
            "Epoch 140 : Loss 0.025055518373847008\n",
            "Epoch 160 : Loss 0.025011803954839706\n",
            "Epoch 180 : Loss 0.02497146837413311\n",
            "Epoch 200 : Loss 0.024934226647019386\n",
            "Epoch 220 : Loss 0.024899831041693687\n",
            "Epoch 240 : Loss 0.024868069216609\n",
            "Epoch 260 : Loss 0.02483874000608921\n",
            "Epoch 280 : Loss 0.02481166645884514\n",
            "Epoch 300 : Loss 0.024786652997136116\n",
            "Epoch 320 : Loss 0.024763556197285652\n",
            "Epoch 340 : Loss 0.024742238223552704\n",
            "Epoch 360 : Loss 0.024722544476389885\n",
            "Epoch 380 : Loss 0.02470436878502369\n",
            "Epoch 400 : Loss 0.024687573313713074\n",
            "Epoch 420 : Loss 0.024672066792845726\n",
            "Epoch 440 : Loss 0.024657754227519035\n",
            "Epoch 460 : Loss 0.024644531309604645\n",
            "Epoch 480 : Loss 0.024632327258586884\n"
          ],
          "name": "stdout"
        }
      ]
    },
    {
      "cell_type": "markdown",
      "metadata": {
        "id": "7rlcy9IF4waC"
      },
      "source": [
        "# Data Visualization"
      ]
    },
    {
      "cell_type": "code",
      "metadata": {
        "id": "LqYVFGxi5yLM",
        "outputId": "ab4d70a2-aea4-49ce-94ed-2e189ad4e16f",
        "colab": {
          "base_uri": "https://localhost:8080/",
          "height": 34
        }
      },
      "source": [
        "[w, b] = torch_model.parameters()\n",
        "\n",
        "tf_model.params[\"w\"].numpy(), tf_model.params[\"b\"].numpy(), w.tolist()[0][0], b.tolist()[0]"
      ],
      "execution_count": 13,
      "outputs": [
        {
          "output_type": "execute_result",
          "data": {
            "text/plain": [
              "(0.09824903, 0.19629349, 0.09982479363679886, 0.3240152597427368)"
            ]
          },
          "metadata": {
            "tags": []
          },
          "execution_count": 13
        }
      ]
    },
    {
      "cell_type": "code",
      "metadata": {
        "id": "HFUgTqN14waD",
        "outputId": "811d838e-d46d-415d-b832-6ed58b9d758e",
        "colab": {
          "base_uri": "https://localhost:8080/",
          "height": 334
        }
      },
      "source": [
        "with torch.no_grad():\n",
        "  x_train, y_train = generate_data()\n",
        "  plt.figure(figsize = (12,5))\n",
        "  ax = plt.subplot(111)\n",
        "  ax.scatter(x_train,y_train, c = \"b\", label=\"samples\")\n",
        "  ax.plot(x, tf_model.params[\"w\"] * x + tf_model.params[\"b\"], \"r\", linewidth = 5.0, label = \"tensorflow\")\n",
        "  ax.plot(x, w * inputs + b, \"c\", linewidth = 5.0, label = \"pytorch\")\n",
        "  ax.legend()\n",
        "  plt.xlabel(\"x1\")\n",
        "  plt.ylabel(\"y\",rotation = 0)"
      ],
      "execution_count": 14,
      "outputs": [
        {
          "output_type": "display_data",
          "data": {
            "image/png": "[encoded data removed]",
            "text/plain": [
              "<Figure size 864x360 with 1 Axes>"
            ]
          },
          "metadata": {
            "tags": [],
            "needs_background": "light"
          }
        }
      ]
    },
    {
      "cell_type": "code",
      "metadata": {
        "id": "XN9IAZ4j7Cf6"
      },
      "source": [
        ""
      ],
      "execution_count": 14,
      "outputs": []
    }
  ]
}