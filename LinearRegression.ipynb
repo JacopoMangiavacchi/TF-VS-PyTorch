{
  "nbformat": 4,
  "nbformat_minor": 0,
  "metadata": {
    "kernelspec": {
      "display_name": "Python 3",
      "language": "python",
      "name": "python3"
    },
    "language_info": {
      "codemirror_mode": {
        "name": "ipython",
        "version": 3
      },
      "file_extension": ".py",
      "mimetype": "text/x-python",
      "name": "python",
      "nbconvert_exporter": "python",
      "pygments_lexer": "ipython3",
      "version": "3.7.6"
    },
    "colab": {
      "name": "LinearRegression.ipynb",
      "provenance": [],
      "include_colab_link": true
    }
  },
  "cells": [
    {
      "cell_type": "markdown",
      "metadata": {
        "id": "view-in-github",
        "colab_type": "text"
      },
      "source": [
        "<a href=\"https://colab.research.google.com/github/JacopoMangiavacchi/TF-PyTorch-LinearRegression/blob/main/LinearRegression.ipynb\" target=\"_parent\"><img src=\"https://colab.research.google.com/assets/colab-badge.svg\" alt=\"Open In Colab\"/></a>"
      ]
    },
    {
      "cell_type": "markdown",
      "metadata": {
        "id": "emfCSMQG4wZg"
      },
      "source": [
        "# Import PyTorch and TensorFlow"
      ]
    },
    {
      "cell_type": "code",
      "metadata": {
        "id": "0c906lqY4wZh"
      },
      "source": [
        "%tensorflow_version 2.x"
      ],
      "execution_count": 1,
      "outputs": []
    },
    {
      "cell_type": "code",
      "metadata": {
        "id": "-GJ3rN3R4wZn",
        "outputId": "edf643a0-d2d5-45b6-a6d3-b097ea4b20d2",
        "colab": {
          "base_uri": "https://localhost:8080/",
          "height": 34
        }
      },
      "source": [
        "import tensorflow as tf\n",
        "print(f\"tensorflow version: {tf.__version__}\")"
      ],
      "execution_count": 2,
      "outputs": [
        {
          "output_type": "stream",
          "text": [
            "tensorflow version: 2.3.0\n"
          ],
          "name": "stdout"
        }
      ]
    },
    {
      "cell_type": "code",
      "metadata": {
        "id": "A85pp2Tn4wZs",
        "outputId": "325cd363-6d3c-420b-a59d-ce6e0dc79a26",
        "colab": {
          "base_uri": "https://localhost:8080/",
          "height": 34
        }
      },
      "source": [
        "import torch\n",
        "print(f\"pytorch version: {torch.__version__}\")"
      ],
      "execution_count": 3,
      "outputs": [
        {
          "output_type": "stream",
          "text": [
            "pytorch version: 1.6.0+cu101\n"
          ],
          "name": "stdout"
        }
      ]
    },
    {
      "cell_type": "markdown",
      "metadata": {
        "id": "kH0qo4mQ4wZv"
      },
      "source": [
        "# Generating the datasets"
      ]
    },
    {
      "cell_type": "code",
      "metadata": {
        "id": "4ifmVYyy4wZv"
      },
      "source": [
        "import numpy as np\n",
        "import matplotlib.pyplot as plt"
      ],
      "execution_count": 4,
      "outputs": []
    },
    {
      "cell_type": "code",
      "metadata": {
        "id": "CMPBuJxd4wZy"
      },
      "source": [
        "def generate_data(m=0.1, b=0.3, n=200):\n",
        "    x = tf.random.uniform(shape=(n,),minval=-10,maxval=10) \n",
        "    noise = tf.random.normal(shape=(len(x),), stddev=0.15)\n",
        "    y = (m * x + b ) + noise\n",
        "    return x, y"
      ],
      "execution_count": 5,
      "outputs": []
    },
    {
      "cell_type": "markdown",
      "metadata": {
        "id": "QgGeUkn54wZ0"
      },
      "source": [
        "## Data Visualization"
      ]
    },
    {
      "cell_type": "code",
      "metadata": {
        "id": "ffKgDR8w4wZ1",
        "outputId": "0c6dcba9-b6cf-4060-fbaa-757f821e350c",
        "colab": {
          "base_uri": "https://localhost:8080/",
          "height": 351
        }
      },
      "source": [
        "m = tf.Variable(0.)\n",
        "b = tf.Variable(0.)\n",
        "x, y = generate_data()\n",
        "plt.figure(figsize = (12,5))\n",
        "ax = plt.subplot(111)\n",
        "ax.scatter(x,y, c = \"b\", label=\"samples\")\n",
        "ax.plot(x,m*x+b,\"-r\",linewidth = 5.0,label = \"model\")\n",
        "plt.xlabel(\"x1\")\n",
        "plt.ylabel(\"y\",rotation = 0)"
      ],
      "execution_count": 6,
      "outputs": [
        {
          "output_type": "execute_result",
          "data": {
            "text/plain": [
              "Text(0, 0.5, 'y')"
            ]
          },
          "metadata": {
            "tags": []
          },
          "execution_count": 6
        },
        {
          "output_type": "display_data",
          "data": {
            "image/png": "[encoded data removed]",
            "text/plain": [
              "<Figure size 864x360 with 1 Axes>"
            ]
          },
          "metadata": {
            "tags": [],
            "needs_background": "light"
          }
        }
      ]
    },
    {
      "cell_type": "markdown",
      "metadata": {
        "id": "VXw8aEdV4wZ4"
      },
      "source": [
        "# TensorFlow Model"
      ]
    },
    {
      "cell_type": "code",
      "metadata": {
        "id": "urXw4sFS4wZ4"
      },
      "source": [
        "class LinearRegressionKeras:\n",
        "    def __init__(self):\n",
        "        self.params = {\n",
        "            \"w\" : tf.Variable(0.),\n",
        "            \"b\" : tf.Variable(0.)\n",
        "        }        \n",
        "\n",
        "    def __call__(self,x): \n",
        "        y_pred = self.params[\"w\"] * x + self.params[\"b\"]\n",
        "        return y_pred"
      ],
      "execution_count": 7,
      "outputs": []
    },
    {
      "cell_type": "markdown",
      "metadata": {
        "id": "zjoCPvJE4wZ6"
      },
      "source": [
        "# PyTorch Model"
      ]
    },
    {
      "cell_type": "code",
      "metadata": {
        "id": "GOXp9c_n4wZ7"
      },
      "source": [
        "# class LinearRegressionPyTorch(torch.nn.Module): \n",
        "#     def __init__(self): \n",
        "#         super(LinearRegressionPyTorch, self).__init__() \n",
        "#         self.w = torch.tensor([0.0])\n",
        "#         self.b = torch.tensor([0.0])\n",
        "  \n",
        "#     def forward(self, x):  \n",
        "#         return x @ self.w + self.b\n",
        "    \n",
        "    \n",
        "class LinearRegressionPyTorch(torch.nn.Module):\n",
        "    def __init__(self):\n",
        "        super(LinearRegressionPyTorch, self).__init__()\n",
        "        self.linear = torch.nn.Linear(1, 1)  \n",
        "\n",
        "    def forward(self, x):\n",
        "        out = self.linear(x)\n",
        "        return out"
      ],
      "execution_count": 8,
      "outputs": []
    },
    {
      "cell_type": "markdown",
      "metadata": {
        "id": "OTM11lUu4wZ9"
      },
      "source": [
        "# TensorFlow Training"
      ]
    },
    {
      "cell_type": "code",
      "metadata": {
        "id": "F1075c3v4wZ9",
        "outputId": "e002e6bf-0378-4317-8fe5-bb65c8c7cdcc",
        "colab": {
          "base_uri": "https://localhost:8080/",
          "height": 425
        }
      },
      "source": [
        "epochs = 500\n",
        "learning_rate = 0.001\n",
        "\n",
        "def squared_error(y_pred, y_true):\n",
        "    return tf.reduce_mean(tf.square(y_pred - y_true))\n",
        "\n",
        "tf_model = LinearRegressionKeras()\n",
        "\n",
        "for epoch in tf.range(1,epochs):\n",
        "    with tf.GradientTape() as tape:\n",
        "        predictions = tf_model(x)\n",
        "        loss = squared_error(predictions, y)\n",
        "    dloss_dw,dloss_db = tape.gradient(loss, [tf_model.params[\"w\"], tf_model.params[\"b\"]])\n",
        "    # adjusting \n",
        "    tf_model.params[\"w\"].assign(tf_model.params[\"w\"] - learning_rate*dloss_dw)\n",
        "    tf_model.params[\"b\"].assign(tf_model.params[\"b\"] - learning_rate*dloss_db)\n",
        "    if epoch % 20 == 0:\n",
        "        print(f\"Step {epoch}, Loss {loss.numpy()}\") # we print the loss only each 20 epochs"
      ],
      "execution_count": 9,
      "outputs": [
        {
          "output_type": "stream",
          "text": [
            "Step 20, Loss 0.13077373802661896\n",
            "Step 40, Loss 0.10296930372714996\n",
            "Step 60, Loss 0.09576210379600525\n",
            "Step 80, Loss 0.09007474780082703\n",
            "Step 100, Loss 0.08487530052661896\n",
            "Step 120, Loss 0.0800783634185791\n",
            "Step 140, Loss 0.07565049082040787\n",
            "Step 160, Loss 0.07156315445899963\n",
            "Step 180, Loss 0.06779017299413681\n",
            "Step 200, Loss 0.06430734694004059\n",
            "Step 220, Loss 0.061092376708984375\n",
            "Step 240, Loss 0.058124661445617676\n",
            "Step 260, Loss 0.05538516864180565\n",
            "Step 280, Loss 0.052856381982564926\n",
            "Step 300, Loss 0.05052207037806511\n",
            "Step 320, Loss 0.048367276787757874\n",
            "Step 340, Loss 0.04637821018695831\n",
            "Step 360, Loss 0.044542096555233\n",
            "Step 380, Loss 0.04284720495343208\n",
            "Step 400, Loss 0.041282664984464645\n",
            "Step 420, Loss 0.03983844444155693\n",
            "Step 440, Loss 0.03850528970360756\n",
            "Step 460, Loss 0.037274669855833054\n",
            "Step 480, Loss 0.036138687282800674\n"
          ],
          "name": "stdout"
        }
      ]
    },
    {
      "cell_type": "markdown",
      "metadata": {
        "id": "Vz7e7zLk4wZ-"
      },
      "source": [
        "# PyTorch Training"
      ]
    },
    {
      "cell_type": "code",
      "metadata": {
        "id": "rrefoEU24wZ_"
      },
      "source": [
        "x, y = generate_data()\n",
        "x = x.numpy()\n",
        "y = y.numpy()\n",
        "x = x.reshape(-1, 1)\n",
        "# x.shape\n",
        "\n",
        "inputs = torch.autograd.Variable(torch.from_numpy(x))\n",
        "labels = torch.autograd.Variable(torch.from_numpy(y))\n"
      ],
      "execution_count": 10,
      "outputs": []
    },
    {
      "cell_type": "code",
      "metadata": {
        "id": "i6mHK8sD4waA",
        "outputId": "d2e926ca-2931-4b69-9032-675ea592f6a9",
        "colab": {
          "base_uri": "https://localhost:8080/",
          "height": 442
        }
      },
      "source": [
        "epochs = 500\n",
        "learning_rate = 0.001\n",
        "\n",
        "def squared_error(y_pred, y_true):\n",
        "    diff = y_pred - y_true\n",
        "    return torch.sum(diff * diff) / diff.numel()\n",
        "\n",
        "\n",
        "torch_model = LinearRegressionPyTorch()\n",
        "\n",
        "# [w, b] = torch_model.parameters()\n",
        "\n",
        "optimizer = torch.optim.SGD(torch_model.parameters(), lr=learning_rate, momentum=0.01)\n",
        "\n",
        "for epoch in range(epochs):\n",
        "    epoch_loss = 0\n",
        "    y_pred = torch_model(inputs)\n",
        "\n",
        "    loss = squared_error(y_pred, labels)\n",
        "\n",
        "    epoch_loss = loss.data\n",
        "\n",
        "    optimizer.zero_grad()\n",
        "    loss.backward()\n",
        "    optimizer.step()\n",
        "    if epoch % 20 == 0:\n",
        "      print(\"Epoch {} : Loss {}\".format(epoch, epoch_loss))\n"
      ],
      "execution_count": 20,
      "outputs": [
        {
          "output_type": "stream",
          "text": [
            "Epoch 0 : Loss 24.38370704650879\n",
            "Epoch 20 : Loss 1.9917041063308716\n",
            "Epoch 40 : Loss 0.7601100206375122\n",
            "Epoch 60 : Loss 0.6693629026412964\n",
            "Epoch 80 : Loss 0.6417639851570129\n",
            "Epoch 100 : Loss 0.6192778944969177\n",
            "Epoch 120 : Loss 0.5986573696136475\n",
            "Epoch 140 : Loss 0.5796073079109192\n",
            "Epoch 160 : Loss 0.5620000958442688\n",
            "Epoch 180 : Loss 0.5457262992858887\n",
            "Epoch 200 : Loss 0.5306848883628845\n",
            "Epoch 220 : Loss 0.5167827010154724\n",
            "Epoch 240 : Loss 0.5039333701133728\n",
            "Epoch 260 : Loss 0.49205708503723145\n",
            "Epoch 280 : Loss 0.4810800850391388\n",
            "Epoch 300 : Loss 0.47093451023101807\n",
            "Epoch 320 : Loss 0.46155717968940735\n",
            "Epoch 340 : Loss 0.45289018750190735\n",
            "Epoch 360 : Loss 0.44487929344177246\n",
            "Epoch 380 : Loss 0.43747520446777344\n",
            "Epoch 400 : Loss 0.4306317865848541\n",
            "Epoch 420 : Loss 0.42430663108825684\n",
            "Epoch 440 : Loss 0.4184604585170746\n",
            "Epoch 460 : Loss 0.4130571782588959\n",
            "Epoch 480 : Loss 0.4080628454685211\n"
          ],
          "name": "stdout"
        }
      ]
    },
    {
      "cell_type": "markdown",
      "metadata": {
        "id": "7rlcy9IF4waC"
      },
      "source": [
        "# Data Visualization"
      ]
    },
    {
      "cell_type": "code",
      "metadata": {
        "id": "LqYVFGxi5yLM",
        "outputId": "2ec5141c-1b93-4b32-e007-903f5983890a",
        "colab": {
          "base_uri": "https://localhost:8080/",
          "height": 119
        }
      },
      "source": [
        "[b, w] = torch_model.parameters()\n",
        "\n",
        "tf_model.params[\"w\"], tf_model.params[\"b\"], w, b"
      ],
      "execution_count": 18,
      "outputs": [
        {
          "output_type": "execute_result",
          "data": {
            "text/plain": [
              "(<tf.Variable 'Variable:0' shape=() dtype=float32, numpy=0.10100755>,\n",
              " <tf.Variable 'Variable:0' shape=() dtype=float32, numpy=0.19277626>,\n",
              " Parameter containing:\n",
              " tensor([0.2328], requires_grad=True),\n",
              " Parameter containing:\n",
              " tensor([[0.0003]], requires_grad=True))"
            ]
          },
          "metadata": {
            "tags": []
          },
          "execution_count": 18
        }
      ]
    },
    {
      "cell_type": "code",
      "metadata": {
        "id": "HFUgTqN14waD",
        "outputId": "fa8ee778-e5da-4a12-def6-ef3343d6c2b7",
        "colab": {
          "base_uri": "https://localhost:8080/",
          "height": 334
        }
      },
      "source": [
        "with torch.no_grad():\n",
        "  x_train, y_train = generate_data()\n",
        "  plt.figure(figsize = (12,5))\n",
        "  ax = plt.subplot(111)\n",
        "  ax.scatter(x_train,y_train, c = \"b\", label=\"samples\")\n",
        "  ax.plot(x, tf_model.params[\"w\"] * x + tf_model.params[\"b\"], \"r\", linewidth = 5.0, label = \"tensorflow\")\n",
        "  ax.plot(x, w * torch.tensor(x) + b, \"c\", linewidth = 5.0, label = \"pytorch\")\n",
        "  ax.legend()\n",
        "  plt.xlabel(\"x1\")\n",
        "  plt.ylabel(\"y\",rotation = 0)"
      ],
      "execution_count": 19,
      "outputs": [
        {
          "output_type": "display_data",
          "data": {
            "image/png": "[encoded data removed]",
            "text/plain": [
              "<Figure size 864x360 with 1 Axes>"
            ]
          },
          "metadata": {
            "tags": [],
            "needs_background": "light"
          }
        }
      ]
    },
    {
      "cell_type": "code",
      "metadata": {
        "id": "XN9IAZ4j7Cf6"
      },
      "source": [
        ""
      ],
      "execution_count": 13,
      "outputs": []
    }
  ]
}