{
  "nbformat": 4,
  "nbformat_minor": 0,
  "metadata": {
    "kernelspec": {
      "display_name": "Python 3",
      "language": "python",
      "name": "python3"
    },
    "language_info": {
      "codemirror_mode": {
        "name": "ipython",
        "version": 3
      },
      "file_extension": ".py",
      "mimetype": "text/x-python",
      "name": "python",
      "nbconvert_exporter": "python",
      "pygments_lexer": "ipython3",
      "version": "3.7.6"
    },
    "colab": {
      "name": "LinearRegression.ipynb",
      "provenance": [],
      "include_colab_link": true
    }
  },
  "cells": [
    {
      "cell_type": "markdown",
      "metadata": {
        "id": "view-in-github",
        "colab_type": "text"
      },
      "source": [
        "<a href=\"https://colab.research.google.com/github/JacopoMangiavacchi/TF-VS-PyTorch/blob/main/LinearRegression.ipynb\" target=\"_parent\"><img src=\"https://colab.research.google.com/assets/colab-badge.svg\" alt=\"Open In Colab\"/></a>"
      ]
    },
    {
      "cell_type": "markdown",
      "metadata": {
        "id": "emfCSMQG4wZg"
      },
      "source": [
        "# Import PyTorch and TensorFlow"
      ]
    },
    {
      "cell_type": "code",
      "metadata": {
        "id": "0c906lqY4wZh"
      },
      "source": [
        "%tensorflow_version 2.x"
      ],
      "execution_count": 1,
      "outputs": []
    },
    {
      "cell_type": "code",
      "metadata": {
        "id": "-GJ3rN3R4wZn",
        "outputId": "5cbd5e8d-4a3a-4d46-bab1-727def88971b",
        "colab": {
          "base_uri": "https://localhost:8080/",
          "height": 34
        }
      },
      "source": [
        "import tensorflow as tf\n",
        "print(f\"tensorflow version: {tf.__version__}\")"
      ],
      "execution_count": 2,
      "outputs": [
        {
          "output_type": "stream",
          "text": [
            "tensorflow version: 2.3.0\n"
          ],
          "name": "stdout"
        }
      ]
    },
    {
      "cell_type": "code",
      "metadata": {
        "id": "A85pp2Tn4wZs",
        "outputId": "3214b3c2-22ae-4d16-8895-79bf212d355a",
        "colab": {
          "base_uri": "https://localhost:8080/",
          "height": 34
        }
      },
      "source": [
        "import torch\n",
        "print(f\"pytorch version: {torch.__version__}\")"
      ],
      "execution_count": 3,
      "outputs": [
        {
          "output_type": "stream",
          "text": [
            "pytorch version: 1.6.0+cu101\n"
          ],
          "name": "stdout"
        }
      ]
    },
    {
      "cell_type": "markdown",
      "metadata": {
        "id": "kH0qo4mQ4wZv"
      },
      "source": [
        "# Generating the datasets"
      ]
    },
    {
      "cell_type": "code",
      "metadata": {
        "id": "4ifmVYyy4wZv"
      },
      "source": [
        "import numpy as np\n",
        "import matplotlib.pyplot as plt"
      ],
      "execution_count": 4,
      "outputs": []
    },
    {
      "cell_type": "code",
      "metadata": {
        "id": "CMPBuJxd4wZy"
      },
      "source": [
        "def generate_data(m=0.1, b=0.3, n=200):\n",
        "    x = np.random.uniform(-10, 10, n)\n",
        "    noise = np.random.normal(0, 0.15, n)\n",
        "    y = (m * x + b ) + noise\n",
        "    return x.astype(np.float32), y.astype(np.float32)\n",
        "\n",
        "    # x = tf.random.uniform(shape=(n,),minval=-10,maxval=10) \n",
        "    # noise = tf.random.normal(shape=(len(x),), stddev=0.15)\n",
        "    # y = (m * x + b ) + noise\n",
        "    # return x.numpy(), y.numpy()"
      ],
      "execution_count": 5,
      "outputs": []
    },
    {
      "cell_type": "markdown",
      "metadata": {
        "id": "QgGeUkn54wZ0"
      },
      "source": [
        "## Data Visualization"
      ]
    },
    {
      "cell_type": "code",
      "metadata": {
        "id": "ffKgDR8w4wZ1",
        "outputId": "70bfe07b-2aed-48ec-93f9-5c8078ff9503",
        "colab": {
          "base_uri": "https://localhost:8080/",
          "height": 351
        }
      },
      "source": [
        "x, y = generate_data()\n",
        "\n",
        "plt.figure(figsize = (12,5))\n",
        "ax = plt.subplot(111)\n",
        "ax.scatter(x,y, c = \"b\", label=\"samples\")\n",
        "plt.xlabel(\"x\")\n",
        "plt.ylabel(\"y\",rotation = 0)"
      ],
      "execution_count": 6,
      "outputs": [
        {
          "output_type": "execute_result",
          "data": {
            "text/plain": [
              "Text(0, 0.5, 'y')"
            ]
          },
          "metadata": {
            "tags": []
          },
          "execution_count": 6
        },
        {
          "output_type": "display_data",
          "data": {
            "image/png": "[encoded data removed]",
            "text/plain": [
              "<Figure size 864x360 with 1 Axes>"
            ]
          },
          "metadata": {
            "tags": [],
            "needs_background": "light"
          }
        }
      ]
    },
    {
      "cell_type": "markdown",
      "metadata": {
        "id": "VXw8aEdV4wZ4"
      },
      "source": [
        "# TensorFlow Dynamic Model"
      ]
    },
    {
      "cell_type": "code",
      "metadata": {
        "id": "urXw4sFS4wZ4"
      },
      "source": [
        "class LinearRegressionKeras(tf.keras.Model):\n",
        "    def __init__(self):\n",
        "        super().__init__()\n",
        "        self.w = tf.Variable(tf.random.uniform(shape=[1], minval=-0.1, maxval=0.1))\n",
        "        self.b = tf.Variable(tf.random.uniform(shape=[1], minval=-0.1, maxval=0.1))\n",
        "\n",
        "    def __call__(self,x): \n",
        "        return x * self.w + self.b\n"
      ],
      "execution_count": 7,
      "outputs": []
    },
    {
      "cell_type": "markdown",
      "metadata": {
        "id": "zjoCPvJE4wZ6"
      },
      "source": [
        "# PyTorch Dynamic Model"
      ]
    },
    {
      "cell_type": "code",
      "metadata": {
        "id": "GOXp9c_n4wZ7"
      },
      "source": [
        "class LinearRegressionPyTorch(torch.nn.Module): \n",
        "    def __init__(self): \n",
        "        super().__init__() \n",
        "        self.w = torch.nn.Parameter(torch.Tensor(1, 1).uniform_(-0.1, 0.1))\n",
        "        self.b = torch.nn.Parameter(torch.Tensor(1).uniform_(-0.1, 0.1))\n",
        "  \n",
        "    def forward(self, x):  \n",
        "        return x @ self.w + self.b\n",
        "    \n",
        "    \n",
        "# class LinearRegressionPyTorch(torch.nn.Module):\n",
        "#     def __init__(self):\n",
        "#         super(LinearRegressionPyTorch, self).__init__()\n",
        "#         self.linear = torch.nn.Linear(1, 1)  \n",
        "\n",
        "#     def forward(self, x):\n",
        "#         out = self.linear(x)\n",
        "#         return out"
      ],
      "execution_count": 8,
      "outputs": []
    },
    {
      "cell_type": "markdown",
      "metadata": {
        "id": "OTM11lUu4wZ9"
      },
      "source": [
        "# TensorFlow Training"
      ]
    },
    {
      "cell_type": "code",
      "metadata": {
        "id": "pO7qsA2QDf9_"
      },
      "source": [
        "epochs = 500\n",
        "learning_rate = 0.001"
      ],
      "execution_count": 9,
      "outputs": []
    },
    {
      "cell_type": "code",
      "metadata": {
        "id": "F1075c3v4wZ9",
        "outputId": "6d67882b-f0b8-4c91-cf40-b7f5348aa8df",
        "colab": {
          "base_uri": "https://localhost:8080/",
          "height": 442
        }
      },
      "source": [
        "@tf.function\n",
        "def squared_error(y_pred, y_true):\n",
        "    return tf.reduce_mean(tf.square(y_pred - y_true))\n",
        "    # diff = y_pred - y_true\n",
        "    # return tf.math.reduce_sum(diff * diff) / tf.size(diff, out_type=tf.dtypes.float32)\n",
        "\n",
        "tf_model = LinearRegressionKeras()\n",
        "[w, b] = tf_model.trainable_variables\n",
        "\n",
        "for epoch in range(epochs):\n",
        "    with tf.GradientTape() as tape:\n",
        "        predictions = tf_model(x)\n",
        "        loss = squared_error(predictions, y)\n",
        "        \n",
        "    w_grad, b_grad = tape.gradient(loss, tf_model.trainable_variables)\n",
        "\n",
        "    w.assign(w - w_grad * learning_rate)\n",
        "    b.assign(b - b_grad * learning_rate)\n",
        "\n",
        "    if epoch % 20 == 0:\n",
        "        print(f\"Epoch {epoch} : Loss {loss.numpy()}\")"
      ],
      "execution_count": 10,
      "outputs": [
        {
          "output_type": "stream",
          "text": [
            "Epoch 0 : Loss 1.1765323877334595\n",
            "Epoch 20 : Loss 0.14968648552894592\n",
            "Epoch 40 : Loss 0.07657203078269958\n",
            "Epoch 60 : Loss 0.06817116588354111\n",
            "Epoch 80 : Loss 0.06440816819667816\n",
            "Epoch 100 : Loss 0.06120436638593674\n",
            "Epoch 120 : Loss 0.0582653284072876\n",
            "Epoch 140 : Loss 0.055553704500198364\n",
            "Epoch 160 : Loss 0.05305083096027374\n",
            "Epoch 180 : Loss 0.05074058473110199\n",
            "Epoch 200 : Loss 0.04860813915729523\n",
            "Epoch 220 : Loss 0.04663979634642601\n",
            "Epoch 240 : Loss 0.044822920113801956\n",
            "Epoch 260 : Loss 0.043145861476659775\n",
            "Epoch 280 : Loss 0.04159786179661751\n",
            "Epoch 300 : Loss 0.04016900435090065\n",
            "Epoch 320 : Loss 0.0388500913977623\n",
            "Epoch 340 : Loss 0.037632692605257034\n",
            "Epoch 360 : Loss 0.03650897368788719\n",
            "Epoch 380 : Loss 0.035471733659505844\n",
            "Epoch 400 : Loss 0.03451431915163994\n",
            "Epoch 420 : Loss 0.03363058716058731\n",
            "Epoch 440 : Loss 0.03281485661864281\n",
            "Epoch 460 : Loss 0.03206191956996918\n",
            "Epoch 480 : Loss 0.03136691451072693\n"
          ],
          "name": "stdout"
        }
      ]
    },
    {
      "cell_type": "markdown",
      "metadata": {
        "id": "Vz7e7zLk4wZ-"
      },
      "source": [
        "# PyTorch Training"
      ]
    },
    {
      "cell_type": "code",
      "metadata": {
        "id": "rrefoEU24wZ_"
      },
      "source": [
        "inputs = torch.autograd.Variable(torch.from_numpy(x.reshape(-1, 1)))\n",
        "labels = torch.autograd.Variable(torch.from_numpy(y.reshape(-1, 1)))\n"
      ],
      "execution_count": 11,
      "outputs": []
    },
    {
      "cell_type": "code",
      "metadata": {
        "id": "i6mHK8sD4waA",
        "outputId": "0862414a-30c6-44ca-9ea1-a6f9588434a9",
        "colab": {
          "base_uri": "https://localhost:8080/",
          "height": 442
        }
      },
      "source": [
        "def squared_error(y_pred, y_true):\n",
        "    return torch.mean(torch.square(y_pred - y_true))\n",
        "    # diff = y_pred - y_true\n",
        "    # return torch.sum(diff * diff) / diff.numel()\n",
        "\n",
        "\n",
        "torch_model = LinearRegressionPyTorch()\n",
        "[w, b] = torch_model.parameters()\n",
        "\n",
        "# criterion = torch.nn.MSELoss(reduction='mean')\n",
        "# optimizer = torch.optim.SGD(torch_model.parameters(), lr=learning_rate)\n",
        "\n",
        "for epoch in range(epochs):\n",
        "    y_pred = torch_model(inputs)\n",
        "    loss = squared_error(y_pred, labels)\n",
        "\n",
        "    # optimizer.zero_grad()\n",
        "    loss.backward()\n",
        "    # optimizer.step()\n",
        "\n",
        "    with torch.no_grad():\n",
        "        w -= w.grad * learning_rate\n",
        "        b -= b.grad * learning_rate\n",
        "        w.grad.zero_()\n",
        "        b.grad.zero_()\n",
        "\n",
        "    if epoch % 20 == 0:\n",
        "      print(f\"Epoch {epoch} : Loss {loss.data}\")\n"
      ],
      "execution_count": 12,
      "outputs": [
        {
          "output_type": "stream",
          "text": [
            "Epoch 0 : Loss 0.6666625142097473\n",
            "Epoch 20 : Loss 0.17090272903442383\n",
            "Epoch 40 : Loss 0.12938006222248077\n",
            "Epoch 60 : Loss 0.11915960907936096\n",
            "Epoch 80 : Loss 0.1116243302822113\n",
            "Epoch 100 : Loss 0.10479718446731567\n",
            "Epoch 120 : Loss 0.09850407391786575\n",
            "Epoch 140 : Loss 0.09269583970308304\n",
            "Epoch 160 : Loss 0.08733465522527695\n",
            "Epoch 180 : Loss 0.08238604664802551\n",
            "Epoch 200 : Loss 0.07781827449798584\n",
            "Epoch 220 : Loss 0.07360201328992844\n",
            "Epoch 240 : Loss 0.06971020996570587\n",
            "Epoch 260 : Loss 0.06611791253089905\n",
            "Epoch 280 : Loss 0.06280206888914108\n",
            "Epoch 300 : Loss 0.05974140018224716\n",
            "Epoch 320 : Loss 0.05691628158092499\n",
            "Epoch 340 : Loss 0.05430855229496956\n",
            "Epoch 360 : Loss 0.051901523023843765\n",
            "Epoch 380 : Loss 0.049679726362228394\n",
            "Epoch 400 : Loss 0.047628916800022125\n",
            "Epoch 420 : Loss 0.04573593661189079\n",
            "Epoch 440 : Loss 0.043988604098558426\n",
            "Epoch 460 : Loss 0.04237578064203262\n",
            "Epoch 480 : Loss 0.04088703542947769\n"
          ],
          "name": "stdout"
        }
      ]
    },
    {
      "cell_type": "markdown",
      "metadata": {
        "id": "7rlcy9IF4waC"
      },
      "source": [
        "# Data Visualization"
      ]
    },
    {
      "cell_type": "code",
      "metadata": {
        "id": "HFUgTqN14waD",
        "outputId": "e1308fee-2063-49b7-9de6-05f3f7e79346",
        "colab": {
          "base_uri": "https://localhost:8080/",
          "height": 334
        }
      },
      "source": [
        "[w_tf, b_tf] = tf_model.trainable_variables\n",
        "[w_torch, b_torch] = torch_model.parameters()\n",
        "\n",
        "with torch.no_grad():\n",
        "  plt.figure(figsize = (12,5))\n",
        "  ax = plt.subplot(111)\n",
        "  ax.scatter(x, y, c = \"b\", label=\"samples\")\n",
        "  ax.plot(x, w_tf * x + b_tf, \"r\", linewidth = 5.0, label = \"tensorflow\")\n",
        "  ax.plot(x, w_torch * inputs + b_torch, \"c\", linewidth = 5.0, label = \"pytorch\")\n",
        "  ax.legend()\n",
        "  plt.xlabel(\"x1\")\n",
        "  plt.ylabel(\"y\",rotation = 0)"
      ],
      "execution_count": 13,
      "outputs": [
        {
          "output_type": "display_data",
          "data": {
            "image/png": "[encoded data removed]",
            "text/plain": [
              "<Figure size 864x360 with 1 Axes>"
            ]
          },
          "metadata": {
            "tags": [],
            "needs_background": "light"
          }
        }
      ]
    },
    {
      "cell_type": "code",
      "metadata": {
        "id": "XN9IAZ4j7Cf6"
      },
      "source": [
        ""
      ],
      "execution_count": 13,
      "outputs": []
    }
  ]
}